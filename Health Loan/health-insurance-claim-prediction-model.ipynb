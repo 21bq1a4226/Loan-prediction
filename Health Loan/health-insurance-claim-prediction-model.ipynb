{
 "cells": [
  {
   "cell_type": "code",
   "execution_count": 1,
   "id": "e42fce07",
   "metadata": {
    "_cell_guid": "b1076dfc-b9ad-4769-8c92-a6c4dae69d19",
    "_uuid": "8f2839f25d086af736a60e9eeb907d3b93b6e0e5",
    "execution": {
     "iopub.execute_input": "2023-10-31T02:05:44.225045Z",
     "iopub.status.busy": "2023-10-31T02:05:44.224112Z",
     "iopub.status.idle": "2023-10-31T02:05:44.664595Z",
     "shell.execute_reply": "2023-10-31T02:05:44.663743Z"
    },
    "papermill": {
     "duration": 0.462886,
     "end_time": "2023-10-31T02:05:44.667838",
     "exception": false,
     "start_time": "2023-10-31T02:05:44.204952",
     "status": "completed"
    },
    "tags": []
   },
   "outputs": [],
   "source": [
    "# This Python 3 environment comes with many helpful analytics libraries installed\n",
    "# It is defined by the kaggle/python Docker image: https://github.com/kaggle/docker-python\n",
    "# For example, here's several helpful packages to load\n",
    "\n",
    "import numpy as np # linear algebra\n",
    "import pandas as pd # data processing, CSV file I/O (e.g. pd.read_csv)\n",
    "\n"
   ]
  },
  {
   "cell_type": "code",
   "execution_count": 2,
   "id": "c7d1c626",
   "metadata": {
    "execution": {
     "iopub.execute_input": "2023-10-31T02:05:44.708002Z",
     "iopub.status.busy": "2023-10-31T02:05:44.707417Z",
     "iopub.status.idle": "2023-10-31T02:05:44.815273Z",
     "shell.execute_reply": "2023-10-31T02:05:44.813709Z"
    },
    "papermill": {
     "duration": 0.131391,
     "end_time": "2023-10-31T02:05:44.818439",
     "exception": false,
     "start_time": "2023-10-31T02:05:44.687048",
     "status": "completed"
    },
    "tags": []
   },
   "outputs": [
    {
     "data": {
      "text/html": [
       "<div>\n",
       "<style scoped>\n",
       "    .dataframe tbody tr th:only-of-type {\n",
       "        vertical-align: middle;\n",
       "    }\n",
       "\n",
       "    .dataframe tbody tr th {\n",
       "        vertical-align: top;\n",
       "    }\n",
       "\n",
       "    .dataframe thead th {\n",
       "        text-align: right;\n",
       "    }\n",
       "</style>\n",
       "<table border=\"1\" class=\"dataframe\">\n",
       "  <thead>\n",
       "    <tr style=\"text-align: right;\">\n",
       "      <th></th>\n",
       "      <th>age</th>\n",
       "      <th>sex</th>\n",
       "      <th>weight</th>\n",
       "      <th>bmi</th>\n",
       "      <th>hereditary_diseases</th>\n",
       "      <th>no_of_dependents</th>\n",
       "      <th>smoker</th>\n",
       "      <th>city</th>\n",
       "      <th>bloodpressure</th>\n",
       "      <th>diabetes</th>\n",
       "      <th>regular_ex</th>\n",
       "      <th>job_title</th>\n",
       "      <th>claim</th>\n",
       "    </tr>\n",
       "  </thead>\n",
       "  <tbody>\n",
       "    <tr>\n",
       "      <th>0</th>\n",
       "      <td>60.0</td>\n",
       "      <td>male</td>\n",
       "      <td>64</td>\n",
       "      <td>24.3</td>\n",
       "      <td>NoDisease</td>\n",
       "      <td>1</td>\n",
       "      <td>0</td>\n",
       "      <td>NewYork</td>\n",
       "      <td>72</td>\n",
       "      <td>0</td>\n",
       "      <td>0</td>\n",
       "      <td>Actor</td>\n",
       "      <td>13112.6</td>\n",
       "    </tr>\n",
       "    <tr>\n",
       "      <th>1</th>\n",
       "      <td>49.0</td>\n",
       "      <td>female</td>\n",
       "      <td>75</td>\n",
       "      <td>22.6</td>\n",
       "      <td>NoDisease</td>\n",
       "      <td>1</td>\n",
       "      <td>0</td>\n",
       "      <td>Boston</td>\n",
       "      <td>78</td>\n",
       "      <td>1</td>\n",
       "      <td>1</td>\n",
       "      <td>Engineer</td>\n",
       "      <td>9567.0</td>\n",
       "    </tr>\n",
       "    <tr>\n",
       "      <th>2</th>\n",
       "      <td>32.0</td>\n",
       "      <td>female</td>\n",
       "      <td>64</td>\n",
       "      <td>17.8</td>\n",
       "      <td>Epilepsy</td>\n",
       "      <td>2</td>\n",
       "      <td>1</td>\n",
       "      <td>Phildelphia</td>\n",
       "      <td>88</td>\n",
       "      <td>1</td>\n",
       "      <td>1</td>\n",
       "      <td>Academician</td>\n",
       "      <td>32734.2</td>\n",
       "    </tr>\n",
       "    <tr>\n",
       "      <th>3</th>\n",
       "      <td>61.0</td>\n",
       "      <td>female</td>\n",
       "      <td>53</td>\n",
       "      <td>36.4</td>\n",
       "      <td>NoDisease</td>\n",
       "      <td>1</td>\n",
       "      <td>1</td>\n",
       "      <td>Pittsburg</td>\n",
       "      <td>72</td>\n",
       "      <td>1</td>\n",
       "      <td>0</td>\n",
       "      <td>Chef</td>\n",
       "      <td>48517.6</td>\n",
       "    </tr>\n",
       "    <tr>\n",
       "      <th>4</th>\n",
       "      <td>19.0</td>\n",
       "      <td>female</td>\n",
       "      <td>50</td>\n",
       "      <td>20.6</td>\n",
       "      <td>NoDisease</td>\n",
       "      <td>0</td>\n",
       "      <td>0</td>\n",
       "      <td>Buffalo</td>\n",
       "      <td>82</td>\n",
       "      <td>1</td>\n",
       "      <td>0</td>\n",
       "      <td>HomeMakers</td>\n",
       "      <td>1731.7</td>\n",
       "    </tr>\n",
       "    <tr>\n",
       "      <th>...</th>\n",
       "      <td>...</td>\n",
       "      <td>...</td>\n",
       "      <td>...</td>\n",
       "      <td>...</td>\n",
       "      <td>...</td>\n",
       "      <td>...</td>\n",
       "      <td>...</td>\n",
       "      <td>...</td>\n",
       "      <td>...</td>\n",
       "      <td>...</td>\n",
       "      <td>...</td>\n",
       "      <td>...</td>\n",
       "      <td>...</td>\n",
       "    </tr>\n",
       "    <tr>\n",
       "      <th>14995</th>\n",
       "      <td>39.0</td>\n",
       "      <td>male</td>\n",
       "      <td>49</td>\n",
       "      <td>28.3</td>\n",
       "      <td>NoDisease</td>\n",
       "      <td>1</td>\n",
       "      <td>1</td>\n",
       "      <td>Florence</td>\n",
       "      <td>54</td>\n",
       "      <td>1</td>\n",
       "      <td>0</td>\n",
       "      <td>FilmMaker</td>\n",
       "      <td>21082.2</td>\n",
       "    </tr>\n",
       "    <tr>\n",
       "      <th>14996</th>\n",
       "      <td>39.0</td>\n",
       "      <td>male</td>\n",
       "      <td>74</td>\n",
       "      <td>29.6</td>\n",
       "      <td>NoDisease</td>\n",
       "      <td>4</td>\n",
       "      <td>0</td>\n",
       "      <td>Miami</td>\n",
       "      <td>64</td>\n",
       "      <td>1</td>\n",
       "      <td>0</td>\n",
       "      <td>Student</td>\n",
       "      <td>7512.3</td>\n",
       "    </tr>\n",
       "    <tr>\n",
       "      <th>14997</th>\n",
       "      <td>20.0</td>\n",
       "      <td>male</td>\n",
       "      <td>62</td>\n",
       "      <td>33.3</td>\n",
       "      <td>NoDisease</td>\n",
       "      <td>0</td>\n",
       "      <td>0</td>\n",
       "      <td>Tampa</td>\n",
       "      <td>52</td>\n",
       "      <td>1</td>\n",
       "      <td>0</td>\n",
       "      <td>FashionDesigner</td>\n",
       "      <td>1391.5</td>\n",
       "    </tr>\n",
       "    <tr>\n",
       "      <th>14998</th>\n",
       "      <td>52.0</td>\n",
       "      <td>male</td>\n",
       "      <td>88</td>\n",
       "      <td>36.7</td>\n",
       "      <td>NoDisease</td>\n",
       "      <td>0</td>\n",
       "      <td>0</td>\n",
       "      <td>PanamaCity</td>\n",
       "      <td>70</td>\n",
       "      <td>1</td>\n",
       "      <td>0</td>\n",
       "      <td>Farmer</td>\n",
       "      <td>9144.6</td>\n",
       "    </tr>\n",
       "    <tr>\n",
       "      <th>14999</th>\n",
       "      <td>52.0</td>\n",
       "      <td>male</td>\n",
       "      <td>57</td>\n",
       "      <td>26.4</td>\n",
       "      <td>NoDisease</td>\n",
       "      <td>3</td>\n",
       "      <td>0</td>\n",
       "      <td>Kingsport</td>\n",
       "      <td>72</td>\n",
       "      <td>1</td>\n",
       "      <td>0</td>\n",
       "      <td>Manager</td>\n",
       "      <td>25992.8</td>\n",
       "    </tr>\n",
       "  </tbody>\n",
       "</table>\n",
       "<p>15000 rows × 13 columns</p>\n",
       "</div>"
      ],
      "text/plain": [
       "        age     sex  weight   bmi hereditary_diseases  no_of_dependents   \n",
       "0      60.0    male      64  24.3           NoDisease                 1  \\\n",
       "1      49.0  female      75  22.6           NoDisease                 1   \n",
       "2      32.0  female      64  17.8            Epilepsy                 2   \n",
       "3      61.0  female      53  36.4           NoDisease                 1   \n",
       "4      19.0  female      50  20.6           NoDisease                 0   \n",
       "...     ...     ...     ...   ...                 ...               ...   \n",
       "14995  39.0    male      49  28.3           NoDisease                 1   \n",
       "14996  39.0    male      74  29.6           NoDisease                 4   \n",
       "14997  20.0    male      62  33.3           NoDisease                 0   \n",
       "14998  52.0    male      88  36.7           NoDisease                 0   \n",
       "14999  52.0    male      57  26.4           NoDisease                 3   \n",
       "\n",
       "       smoker         city  bloodpressure  diabetes  regular_ex   \n",
       "0           0      NewYork             72         0           0  \\\n",
       "1           0       Boston             78         1           1   \n",
       "2           1  Phildelphia             88         1           1   \n",
       "3           1    Pittsburg             72         1           0   \n",
       "4           0      Buffalo             82         1           0   \n",
       "...       ...          ...            ...       ...         ...   \n",
       "14995       1     Florence             54         1           0   \n",
       "14996       0        Miami             64         1           0   \n",
       "14997       0        Tampa             52         1           0   \n",
       "14998       0   PanamaCity             70         1           0   \n",
       "14999       0    Kingsport             72         1           0   \n",
       "\n",
       "             job_title    claim  \n",
       "0                Actor  13112.6  \n",
       "1             Engineer   9567.0  \n",
       "2          Academician  32734.2  \n",
       "3                 Chef  48517.6  \n",
       "4           HomeMakers   1731.7  \n",
       "...                ...      ...  \n",
       "14995        FilmMaker  21082.2  \n",
       "14996          Student   7512.3  \n",
       "14997  FashionDesigner   1391.5  \n",
       "14998           Farmer   9144.6  \n",
       "14999          Manager  25992.8  \n",
       "\n",
       "[15000 rows x 13 columns]"
      ]
     },
     "execution_count": 2,
     "metadata": {},
     "output_type": "execute_result"
    }
   ],
   "source": [
    "data=pd.read_csv(\"1651277648862_healthinsurance.csv\")\n",
    "data"
   ]
  },
  {
   "cell_type": "code",
   "execution_count": 3,
   "id": "44fd3381",
   "metadata": {
    "execution": {
     "iopub.execute_input": "2023-10-31T02:05:44.854019Z",
     "iopub.status.busy": "2023-10-31T02:05:44.853582Z",
     "iopub.status.idle": "2023-10-31T02:05:44.874611Z",
     "shell.execute_reply": "2023-10-31T02:05:44.873266Z"
    },
    "papermill": {
     "duration": 0.042024,
     "end_time": "2023-10-31T02:05:44.877340",
     "exception": false,
     "start_time": "2023-10-31T02:05:44.835316",
     "status": "completed"
    },
    "tags": []
   },
   "outputs": [
    {
     "data": {
      "text/html": [
       "<div>\n",
       "<style scoped>\n",
       "    .dataframe tbody tr th:only-of-type {\n",
       "        vertical-align: middle;\n",
       "    }\n",
       "\n",
       "    .dataframe tbody tr th {\n",
       "        vertical-align: top;\n",
       "    }\n",
       "\n",
       "    .dataframe thead th {\n",
       "        text-align: right;\n",
       "    }\n",
       "</style>\n",
       "<table border=\"1\" class=\"dataframe\">\n",
       "  <thead>\n",
       "    <tr style=\"text-align: right;\">\n",
       "      <th></th>\n",
       "      <th>age</th>\n",
       "      <th>sex</th>\n",
       "      <th>weight</th>\n",
       "      <th>bmi</th>\n",
       "      <th>hereditary_diseases</th>\n",
       "      <th>no_of_dependents</th>\n",
       "      <th>smoker</th>\n",
       "      <th>city</th>\n",
       "      <th>bloodpressure</th>\n",
       "      <th>diabetes</th>\n",
       "      <th>regular_ex</th>\n",
       "      <th>job_title</th>\n",
       "      <th>claim</th>\n",
       "    </tr>\n",
       "  </thead>\n",
       "  <tbody>\n",
       "    <tr>\n",
       "      <th>0</th>\n",
       "      <td>60.0</td>\n",
       "      <td>male</td>\n",
       "      <td>64</td>\n",
       "      <td>24.3</td>\n",
       "      <td>NoDisease</td>\n",
       "      <td>1</td>\n",
       "      <td>0</td>\n",
       "      <td>NewYork</td>\n",
       "      <td>72</td>\n",
       "      <td>0</td>\n",
       "      <td>0</td>\n",
       "      <td>Actor</td>\n",
       "      <td>13112.6</td>\n",
       "    </tr>\n",
       "    <tr>\n",
       "      <th>1</th>\n",
       "      <td>49.0</td>\n",
       "      <td>female</td>\n",
       "      <td>75</td>\n",
       "      <td>22.6</td>\n",
       "      <td>NoDisease</td>\n",
       "      <td>1</td>\n",
       "      <td>0</td>\n",
       "      <td>Boston</td>\n",
       "      <td>78</td>\n",
       "      <td>1</td>\n",
       "      <td>1</td>\n",
       "      <td>Engineer</td>\n",
       "      <td>9567.0</td>\n",
       "    </tr>\n",
       "    <tr>\n",
       "      <th>2</th>\n",
       "      <td>32.0</td>\n",
       "      <td>female</td>\n",
       "      <td>64</td>\n",
       "      <td>17.8</td>\n",
       "      <td>Epilepsy</td>\n",
       "      <td>2</td>\n",
       "      <td>1</td>\n",
       "      <td>Phildelphia</td>\n",
       "      <td>88</td>\n",
       "      <td>1</td>\n",
       "      <td>1</td>\n",
       "      <td>Academician</td>\n",
       "      <td>32734.2</td>\n",
       "    </tr>\n",
       "    <tr>\n",
       "      <th>3</th>\n",
       "      <td>61.0</td>\n",
       "      <td>female</td>\n",
       "      <td>53</td>\n",
       "      <td>36.4</td>\n",
       "      <td>NoDisease</td>\n",
       "      <td>1</td>\n",
       "      <td>1</td>\n",
       "      <td>Pittsburg</td>\n",
       "      <td>72</td>\n",
       "      <td>1</td>\n",
       "      <td>0</td>\n",
       "      <td>Chef</td>\n",
       "      <td>48517.6</td>\n",
       "    </tr>\n",
       "    <tr>\n",
       "      <th>4</th>\n",
       "      <td>19.0</td>\n",
       "      <td>female</td>\n",
       "      <td>50</td>\n",
       "      <td>20.6</td>\n",
       "      <td>NoDisease</td>\n",
       "      <td>0</td>\n",
       "      <td>0</td>\n",
       "      <td>Buffalo</td>\n",
       "      <td>82</td>\n",
       "      <td>1</td>\n",
       "      <td>0</td>\n",
       "      <td>HomeMakers</td>\n",
       "      <td>1731.7</td>\n",
       "    </tr>\n",
       "  </tbody>\n",
       "</table>\n",
       "</div>"
      ],
      "text/plain": [
       "    age     sex  weight   bmi hereditary_diseases  no_of_dependents  smoker   \n",
       "0  60.0    male      64  24.3           NoDisease                 1       0  \\\n",
       "1  49.0  female      75  22.6           NoDisease                 1       0   \n",
       "2  32.0  female      64  17.8            Epilepsy                 2       1   \n",
       "3  61.0  female      53  36.4           NoDisease                 1       1   \n",
       "4  19.0  female      50  20.6           NoDisease                 0       0   \n",
       "\n",
       "          city  bloodpressure  diabetes  regular_ex    job_title    claim  \n",
       "0      NewYork             72         0           0        Actor  13112.6  \n",
       "1       Boston             78         1           1     Engineer   9567.0  \n",
       "2  Phildelphia             88         1           1  Academician  32734.2  \n",
       "3    Pittsburg             72         1           0         Chef  48517.6  \n",
       "4      Buffalo             82         1           0   HomeMakers   1731.7  "
      ]
     },
     "execution_count": 3,
     "metadata": {},
     "output_type": "execute_result"
    }
   ],
   "source": [
    "data.head()"
   ]
  },
  {
   "cell_type": "code",
   "execution_count": 4,
   "id": "e26446ee",
   "metadata": {
    "execution": {
     "iopub.execute_input": "2023-10-31T02:05:44.914117Z",
     "iopub.status.busy": "2023-10-31T02:05:44.913680Z",
     "iopub.status.idle": "2023-10-31T02:05:44.921470Z",
     "shell.execute_reply": "2023-10-31T02:05:44.919864Z"
    },
    "papermill": {
     "duration": 0.029766,
     "end_time": "2023-10-31T02:05:44.924297",
     "exception": false,
     "start_time": "2023-10-31T02:05:44.894531",
     "status": "completed"
    },
    "tags": []
   },
   "outputs": [
    {
     "name": "stdout",
     "output_type": "stream",
     "text": [
      "no. of rows 15000\n",
      "no. of columns 13\n"
     ]
    }
   ],
   "source": [
    "print(\"no. of rows\",data.shape[0])\n",
    "print(\"no. of columns\",data.shape[1])"
   ]
  },
  {
   "cell_type": "markdown",
   "id": "43e1c610",
   "metadata": {
    "papermill": {
     "duration": 0.017091,
     "end_time": "2023-10-31T02:05:44.958460",
     "exception": false,
     "start_time": "2023-10-31T02:05:44.941369",
     "status": "completed"
    },
    "tags": []
   },
   "source": [
    "# To check number of null values in each column "
   ]
  },
  {
   "cell_type": "code",
   "execution_count": 5,
   "id": "9540fce1",
   "metadata": {
    "execution": {
     "iopub.execute_input": "2023-10-31T02:05:44.995816Z",
     "iopub.status.busy": "2023-10-31T02:05:44.995342Z",
     "iopub.status.idle": "2023-10-31T02:05:45.014558Z",
     "shell.execute_reply": "2023-10-31T02:05:45.013334Z"
    },
    "papermill": {
     "duration": 0.041283,
     "end_time": "2023-10-31T02:05:45.017224",
     "exception": false,
     "start_time": "2023-10-31T02:05:44.975941",
     "status": "completed"
    },
    "tags": []
   },
   "outputs": [
    {
     "data": {
      "text/plain": [
       "age                    396\n",
       "sex                      0\n",
       "weight                   0\n",
       "bmi                    956\n",
       "hereditary_diseases      0\n",
       "no_of_dependents         0\n",
       "smoker                   0\n",
       "city                     0\n",
       "bloodpressure            0\n",
       "diabetes                 0\n",
       "regular_ex               0\n",
       "job_title                0\n",
       "claim                    0\n",
       "dtype: int64"
      ]
     },
     "execution_count": 5,
     "metadata": {},
     "output_type": "execute_result"
    }
   ],
   "source": [
    "data.isnull().sum()"
   ]
  },
  {
   "cell_type": "raw",
   "id": "9289118b",
   "metadata": {
    "papermill": {
     "duration": 0.016987,
     "end_time": "2023-10-31T02:05:45.051750",
     "exception": false,
     "start_time": "2023-10-31T02:05:45.034763",
     "status": "completed"
    },
    "tags": []
   },
   "source": [
    "There are 396 null values in \"age\" column and 956 in \"bmi\" column.Dropping this rows may lead to lose of crucial data set, so we are going to fill these values with respective \"mean\" values."
   ]
  },
  {
   "cell_type": "code",
   "execution_count": 6,
   "id": "431c10e0",
   "metadata": {
    "execution": {
     "iopub.execute_input": "2023-10-31T02:05:45.089053Z",
     "iopub.status.busy": "2023-10-31T02:05:45.088518Z",
     "iopub.status.idle": "2023-10-31T02:05:47.066150Z",
     "shell.execute_reply": "2023-10-31T02:05:47.064654Z"
    },
    "papermill": {
     "duration": 1.999922,
     "end_time": "2023-10-31T02:05:47.069119",
     "exception": false,
     "start_time": "2023-10-31T02:05:45.069197",
     "status": "completed"
    },
    "tags": []
   },
   "outputs": [
    {
     "data": {
      "text/plain": [
       "age                    0\n",
       "sex                    0\n",
       "weight                 0\n",
       "bmi                    0\n",
       "hereditary_diseases    0\n",
       "no_of_dependents       0\n",
       "smoker                 0\n",
       "city                   0\n",
       "bloodpressure          0\n",
       "diabetes               0\n",
       "regular_ex             0\n",
       "job_title              0\n",
       "claim                  0\n",
       "dtype: int64"
      ]
     },
     "execution_count": 6,
     "metadata": {},
     "output_type": "execute_result"
    }
   ],
   "source": [
    "\n",
    "from sklearn.impute import SimpleImputer\n",
    "\n",
    "# Initialize the SimpleImputer with the strategy 'mean'\n",
    "imputer = SimpleImputer(strategy='mean')\n",
    "\n",
    "# Specify the columns with missing values that we want to impute\n",
    "columns_with_missing_values = ['age', 'bmi']\n",
    "\n",
    "# Apply the imputer to fill missing values with the mean\n",
    "data[columns_with_missing_values] = imputer.fit_transform(data[columns_with_missing_values])\n",
    "\n",
    "data.isnull().sum()"
   ]
  },
  {
   "cell_type": "code",
   "execution_count": 7,
   "id": "c593b8b9",
   "metadata": {
    "execution": {
     "iopub.execute_input": "2023-10-31T02:05:47.108757Z",
     "iopub.status.busy": "2023-10-31T02:05:47.108232Z",
     "iopub.status.idle": "2023-10-31T02:05:47.115103Z",
     "shell.execute_reply": "2023-10-31T02:05:47.113845Z"
    },
    "papermill": {
     "duration": 0.029849,
     "end_time": "2023-10-31T02:05:47.117815",
     "exception": false,
     "start_time": "2023-10-31T02:05:47.087966",
     "status": "completed"
    },
    "tags": []
   },
   "outputs": [
    {
     "name": "stdout",
     "output_type": "stream",
     "text": [
      "no. of rows 15000\n",
      "no. of columns 13\n"
     ]
    }
   ],
   "source": [
    "print(\"no. of rows\",data.shape[0])\n",
    "print(\"no. of columns\",data.shape[1])\n",
    "# no data is lost,while dealing with missing values"
   ]
  },
  {
   "cell_type": "code",
   "execution_count": 8,
   "id": "2acef810",
   "metadata": {
    "execution": {
     "iopub.execute_input": "2023-10-31T02:05:47.157928Z",
     "iopub.status.busy": "2023-10-31T02:05:47.157423Z",
     "iopub.status.idle": "2023-10-31T02:05:47.237339Z",
     "shell.execute_reply": "2023-10-31T02:05:47.236361Z"
    },
    "papermill": {
     "duration": 0.103518,
     "end_time": "2023-10-31T02:05:47.239823",
     "exception": false,
     "start_time": "2023-10-31T02:05:47.136305",
     "status": "completed"
    },
    "tags": []
   },
   "outputs": [
    {
     "data": {
      "text/html": [
       "<div>\n",
       "<style scoped>\n",
       "    .dataframe tbody tr th:only-of-type {\n",
       "        vertical-align: middle;\n",
       "    }\n",
       "\n",
       "    .dataframe tbody tr th {\n",
       "        vertical-align: top;\n",
       "    }\n",
       "\n",
       "    .dataframe thead th {\n",
       "        text-align: right;\n",
       "    }\n",
       "</style>\n",
       "<table border=\"1\" class=\"dataframe\">\n",
       "  <thead>\n",
       "    <tr style=\"text-align: right;\">\n",
       "      <th></th>\n",
       "      <th>age</th>\n",
       "      <th>sex</th>\n",
       "      <th>weight</th>\n",
       "      <th>bmi</th>\n",
       "      <th>hereditary_diseases</th>\n",
       "      <th>no_of_dependents</th>\n",
       "      <th>smoker</th>\n",
       "      <th>city</th>\n",
       "      <th>bloodpressure</th>\n",
       "      <th>diabetes</th>\n",
       "      <th>regular_ex</th>\n",
       "      <th>job_title</th>\n",
       "      <th>claim</th>\n",
       "    </tr>\n",
       "  </thead>\n",
       "  <tbody>\n",
       "    <tr>\n",
       "      <th>count</th>\n",
       "      <td>15000.000000</td>\n",
       "      <td>15000</td>\n",
       "      <td>15000.000000</td>\n",
       "      <td>15000.000000</td>\n",
       "      <td>15000</td>\n",
       "      <td>15000.000000</td>\n",
       "      <td>15000.000000</td>\n",
       "      <td>15000</td>\n",
       "      <td>15000.000000</td>\n",
       "      <td>15000.000000</td>\n",
       "      <td>15000.000000</td>\n",
       "      <td>15000</td>\n",
       "      <td>15000.000000</td>\n",
       "    </tr>\n",
       "    <tr>\n",
       "      <th>unique</th>\n",
       "      <td>NaN</td>\n",
       "      <td>2</td>\n",
       "      <td>NaN</td>\n",
       "      <td>NaN</td>\n",
       "      <td>10</td>\n",
       "      <td>NaN</td>\n",
       "      <td>NaN</td>\n",
       "      <td>91</td>\n",
       "      <td>NaN</td>\n",
       "      <td>NaN</td>\n",
       "      <td>NaN</td>\n",
       "      <td>35</td>\n",
       "      <td>NaN</td>\n",
       "    </tr>\n",
       "    <tr>\n",
       "      <th>top</th>\n",
       "      <td>NaN</td>\n",
       "      <td>female</td>\n",
       "      <td>NaN</td>\n",
       "      <td>NaN</td>\n",
       "      <td>NoDisease</td>\n",
       "      <td>NaN</td>\n",
       "      <td>NaN</td>\n",
       "      <td>NewOrleans</td>\n",
       "      <td>NaN</td>\n",
       "      <td>NaN</td>\n",
       "      <td>NaN</td>\n",
       "      <td>Student</td>\n",
       "      <td>NaN</td>\n",
       "    </tr>\n",
       "    <tr>\n",
       "      <th>freq</th>\n",
       "      <td>NaN</td>\n",
       "      <td>7652</td>\n",
       "      <td>NaN</td>\n",
       "      <td>NaN</td>\n",
       "      <td>13998</td>\n",
       "      <td>NaN</td>\n",
       "      <td>NaN</td>\n",
       "      <td>302</td>\n",
       "      <td>NaN</td>\n",
       "      <td>NaN</td>\n",
       "      <td>NaN</td>\n",
       "      <td>1320</td>\n",
       "      <td>NaN</td>\n",
       "    </tr>\n",
       "    <tr>\n",
       "      <th>mean</th>\n",
       "      <td>39.547521</td>\n",
       "      <td>NaN</td>\n",
       "      <td>64.909600</td>\n",
       "      <td>30.266413</td>\n",
       "      <td>NaN</td>\n",
       "      <td>1.129733</td>\n",
       "      <td>0.198133</td>\n",
       "      <td>NaN</td>\n",
       "      <td>68.650133</td>\n",
       "      <td>0.777000</td>\n",
       "      <td>0.224133</td>\n",
       "      <td>NaN</td>\n",
       "      <td>13401.437620</td>\n",
       "    </tr>\n",
       "    <tr>\n",
       "      <th>std</th>\n",
       "      <td>13.829705</td>\n",
       "      <td>NaN</td>\n",
       "      <td>13.701935</td>\n",
       "      <td>5.924606</td>\n",
       "      <td>NaN</td>\n",
       "      <td>1.228469</td>\n",
       "      <td>0.398606</td>\n",
       "      <td>NaN</td>\n",
       "      <td>19.418515</td>\n",
       "      <td>0.416272</td>\n",
       "      <td>0.417024</td>\n",
       "      <td>NaN</td>\n",
       "      <td>12148.239619</td>\n",
       "    </tr>\n",
       "    <tr>\n",
       "      <th>min</th>\n",
       "      <td>18.000000</td>\n",
       "      <td>NaN</td>\n",
       "      <td>34.000000</td>\n",
       "      <td>16.000000</td>\n",
       "      <td>NaN</td>\n",
       "      <td>0.000000</td>\n",
       "      <td>0.000000</td>\n",
       "      <td>NaN</td>\n",
       "      <td>0.000000</td>\n",
       "      <td>0.000000</td>\n",
       "      <td>0.000000</td>\n",
       "      <td>NaN</td>\n",
       "      <td>1121.900000</td>\n",
       "    </tr>\n",
       "    <tr>\n",
       "      <th>25%</th>\n",
       "      <td>27.000000</td>\n",
       "      <td>NaN</td>\n",
       "      <td>54.000000</td>\n",
       "      <td>25.900000</td>\n",
       "      <td>NaN</td>\n",
       "      <td>0.000000</td>\n",
       "      <td>0.000000</td>\n",
       "      <td>NaN</td>\n",
       "      <td>64.000000</td>\n",
       "      <td>1.000000</td>\n",
       "      <td>0.000000</td>\n",
       "      <td>NaN</td>\n",
       "      <td>4846.900000</td>\n",
       "    </tr>\n",
       "    <tr>\n",
       "      <th>50%</th>\n",
       "      <td>40.000000</td>\n",
       "      <td>NaN</td>\n",
       "      <td>63.000000</td>\n",
       "      <td>29.800000</td>\n",
       "      <td>NaN</td>\n",
       "      <td>1.000000</td>\n",
       "      <td>0.000000</td>\n",
       "      <td>NaN</td>\n",
       "      <td>71.000000</td>\n",
       "      <td>1.000000</td>\n",
       "      <td>0.000000</td>\n",
       "      <td>NaN</td>\n",
       "      <td>9545.650000</td>\n",
       "    </tr>\n",
       "    <tr>\n",
       "      <th>75%</th>\n",
       "      <td>51.000000</td>\n",
       "      <td>NaN</td>\n",
       "      <td>76.000000</td>\n",
       "      <td>34.100000</td>\n",
       "      <td>NaN</td>\n",
       "      <td>2.000000</td>\n",
       "      <td>0.000000</td>\n",
       "      <td>NaN</td>\n",
       "      <td>80.000000</td>\n",
       "      <td>1.000000</td>\n",
       "      <td>0.000000</td>\n",
       "      <td>NaN</td>\n",
       "      <td>16519.125000</td>\n",
       "    </tr>\n",
       "    <tr>\n",
       "      <th>max</th>\n",
       "      <td>64.000000</td>\n",
       "      <td>NaN</td>\n",
       "      <td>95.000000</td>\n",
       "      <td>53.100000</td>\n",
       "      <td>NaN</td>\n",
       "      <td>5.000000</td>\n",
       "      <td>1.000000</td>\n",
       "      <td>NaN</td>\n",
       "      <td>122.000000</td>\n",
       "      <td>1.000000</td>\n",
       "      <td>1.000000</td>\n",
       "      <td>NaN</td>\n",
       "      <td>63770.400000</td>\n",
       "    </tr>\n",
       "  </tbody>\n",
       "</table>\n",
       "</div>"
      ],
      "text/plain": [
       "                 age     sex        weight           bmi hereditary_diseases   \n",
       "count   15000.000000   15000  15000.000000  15000.000000               15000  \\\n",
       "unique           NaN       2           NaN           NaN                  10   \n",
       "top              NaN  female           NaN           NaN           NoDisease   \n",
       "freq             NaN    7652           NaN           NaN               13998   \n",
       "mean       39.547521     NaN     64.909600     30.266413                 NaN   \n",
       "std        13.829705     NaN     13.701935      5.924606                 NaN   \n",
       "min        18.000000     NaN     34.000000     16.000000                 NaN   \n",
       "25%        27.000000     NaN     54.000000     25.900000                 NaN   \n",
       "50%        40.000000     NaN     63.000000     29.800000                 NaN   \n",
       "75%        51.000000     NaN     76.000000     34.100000                 NaN   \n",
       "max        64.000000     NaN     95.000000     53.100000                 NaN   \n",
       "\n",
       "        no_of_dependents        smoker        city  bloodpressure   \n",
       "count       15000.000000  15000.000000       15000   15000.000000  \\\n",
       "unique               NaN           NaN          91            NaN   \n",
       "top                  NaN           NaN  NewOrleans            NaN   \n",
       "freq                 NaN           NaN         302            NaN   \n",
       "mean            1.129733      0.198133         NaN      68.650133   \n",
       "std             1.228469      0.398606         NaN      19.418515   \n",
       "min             0.000000      0.000000         NaN       0.000000   \n",
       "25%             0.000000      0.000000         NaN      64.000000   \n",
       "50%             1.000000      0.000000         NaN      71.000000   \n",
       "75%             2.000000      0.000000         NaN      80.000000   \n",
       "max             5.000000      1.000000         NaN     122.000000   \n",
       "\n",
       "            diabetes    regular_ex job_title         claim  \n",
       "count   15000.000000  15000.000000     15000  15000.000000  \n",
       "unique           NaN           NaN        35           NaN  \n",
       "top              NaN           NaN   Student           NaN  \n",
       "freq             NaN           NaN      1320           NaN  \n",
       "mean        0.777000      0.224133       NaN  13401.437620  \n",
       "std         0.416272      0.417024       NaN  12148.239619  \n",
       "min         0.000000      0.000000       NaN   1121.900000  \n",
       "25%         1.000000      0.000000       NaN   4846.900000  \n",
       "50%         1.000000      0.000000       NaN   9545.650000  \n",
       "75%         1.000000      0.000000       NaN  16519.125000  \n",
       "max         1.000000      1.000000       NaN  63770.400000  "
      ]
     },
     "execution_count": 8,
     "metadata": {},
     "output_type": "execute_result"
    }
   ],
   "source": [
    "data.describe(include='all')"
   ]
  },
  {
   "cell_type": "code",
   "execution_count": 9,
   "id": "78b16101",
   "metadata": {
    "execution": {
     "iopub.execute_input": "2023-10-31T02:05:47.280955Z",
     "iopub.status.busy": "2023-10-31T02:05:47.280280Z",
     "iopub.status.idle": "2023-10-31T02:05:47.314039Z",
     "shell.execute_reply": "2023-10-31T02:05:47.312540Z"
    },
    "papermill": {
     "duration": 0.058528,
     "end_time": "2023-10-31T02:05:47.317472",
     "exception": false,
     "start_time": "2023-10-31T02:05:47.258944",
     "status": "completed"
    },
    "tags": []
   },
   "outputs": [
    {
     "name": "stdout",
     "output_type": "stream",
     "text": [
      "<class 'pandas.core.frame.DataFrame'>\n",
      "RangeIndex: 15000 entries, 0 to 14999\n",
      "Data columns (total 13 columns):\n",
      " #   Column               Non-Null Count  Dtype  \n",
      "---  ------               --------------  -----  \n",
      " 0   age                  15000 non-null  float64\n",
      " 1   sex                  15000 non-null  object \n",
      " 2   weight               15000 non-null  int64  \n",
      " 3   bmi                  15000 non-null  float64\n",
      " 4   hereditary_diseases  15000 non-null  object \n",
      " 5   no_of_dependents     15000 non-null  int64  \n",
      " 6   smoker               15000 non-null  int64  \n",
      " 7   city                 15000 non-null  object \n",
      " 8   bloodpressure        15000 non-null  int64  \n",
      " 9   diabetes             15000 non-null  int64  \n",
      " 10  regular_ex           15000 non-null  int64  \n",
      " 11  job_title            15000 non-null  object \n",
      " 12  claim                15000 non-null  float64\n",
      "dtypes: float64(3), int64(6), object(4)\n",
      "memory usage: 1.5+ MB\n"
     ]
    }
   ],
   "source": [
    "data.info()\n",
    "# we have to convert the object to int or float for upcoming machine learning algos \"sex\",\"hereditary_diseases\",\"city\",\"job_title\""
   ]
  },
  {
   "cell_type": "code",
   "execution_count": 10,
   "id": "0faf2224",
   "metadata": {
    "execution": {
     "iopub.execute_input": "2023-10-31T02:05:47.359556Z",
     "iopub.status.busy": "2023-10-31T02:05:47.358476Z",
     "iopub.status.idle": "2023-10-31T02:05:47.369591Z",
     "shell.execute_reply": "2023-10-31T02:05:47.368119Z"
    },
    "papermill": {
     "duration": 0.03508,
     "end_time": "2023-10-31T02:05:47.372205",
     "exception": false,
     "start_time": "2023-10-31T02:05:47.337125",
     "status": "completed"
    },
    "tags": []
   },
   "outputs": [
    {
     "data": {
      "text/plain": [
       "array(['male', 'female'], dtype=object)"
      ]
     },
     "execution_count": 10,
     "metadata": {},
     "output_type": "execute_result"
    }
   ],
   "source": [
    "data[\"sex\"].unique()"
   ]
  },
  {
   "cell_type": "code",
   "execution_count": 11,
   "id": "edb0c15c",
   "metadata": {
    "execution": {
     "iopub.execute_input": "2023-10-31T02:05:47.511839Z",
     "iopub.status.busy": "2023-10-31T02:05:47.511305Z",
     "iopub.status.idle": "2023-10-31T02:05:47.526896Z",
     "shell.execute_reply": "2023-10-31T02:05:47.525621Z"
    },
    "papermill": {
     "duration": 0.039193,
     "end_time": "2023-10-31T02:05:47.529449",
     "exception": false,
     "start_time": "2023-10-31T02:05:47.490256",
     "status": "completed"
    },
    "tags": []
   },
   "outputs": [
    {
     "data": {
      "text/plain": [
       "array([1, 0], dtype=int64)"
      ]
     },
     "execution_count": 11,
     "metadata": {},
     "output_type": "execute_result"
    }
   ],
   "source": [
    "#values mapped to integers (0 and 1)\n",
    "data['sex']=data['sex'].map({'female':0,'male':1})\n",
    "data[\"sex\"].unique()"
   ]
  },
  {
   "cell_type": "code",
   "execution_count": 12,
   "id": "6a4de786",
   "metadata": {
    "execution": {
     "iopub.execute_input": "2023-10-31T02:05:47.570618Z",
     "iopub.status.busy": "2023-10-31T02:05:47.570100Z",
     "iopub.status.idle": "2023-10-31T02:05:47.579975Z",
     "shell.execute_reply": "2023-10-31T02:05:47.579010Z"
    },
    "papermill": {
     "duration": 0.033435,
     "end_time": "2023-10-31T02:05:47.582469",
     "exception": false,
     "start_time": "2023-10-31T02:05:47.549034",
     "status": "completed"
    },
    "tags": []
   },
   "outputs": [
    {
     "data": {
      "text/plain": [
       "array(['NoDisease', 'Epilepsy', 'EyeDisease', 'Alzheimer', 'Arthritis',\n",
       "       'HeartDisease', 'Diabetes', 'Cancer', 'High BP', 'Obesity'],\n",
       "      dtype=object)"
      ]
     },
     "execution_count": 12,
     "metadata": {},
     "output_type": "execute_result"
    }
   ],
   "source": [
    "data[\"hereditary_diseases\"].unique()"
   ]
  },
  {
   "cell_type": "code",
   "execution_count": 13,
   "id": "97f8c55a",
   "metadata": {
    "execution": {
     "iopub.execute_input": "2023-10-31T02:05:47.624247Z",
     "iopub.status.busy": "2023-10-31T02:05:47.623732Z",
     "iopub.status.idle": "2023-10-31T02:05:47.638239Z",
     "shell.execute_reply": "2023-10-31T02:05:47.637035Z"
    },
    "papermill": {
     "duration": 0.038655,
     "end_time": "2023-10-31T02:05:47.640844",
     "exception": false,
     "start_time": "2023-10-31T02:05:47.602189",
     "status": "completed"
    },
    "tags": []
   },
   "outputs": [
    {
     "data": {
      "text/plain": [
       "array([0, 1, 2, 3, 4, 5, 6, 7, 8, 9], dtype=int64)"
      ]
     },
     "execution_count": 13,
     "metadata": {},
     "output_type": "execute_result"
    }
   ],
   "source": [
    "data[\"hereditary_diseases\"]=data[\"hereditary_diseases\"].map({'NoDisease':0, 'Epilepsy':1, 'EyeDisease':2, 'Alzheimer':3, 'Arthritis':4,\n",
    "       'HeartDisease':5, 'Diabetes':6, 'Cancer':7, 'High BP':8, 'Obesity':9})\n",
    "data[\"hereditary_diseases\"].unique()\n",
    "# mapping done"
   ]
  },
  {
   "cell_type": "code",
   "execution_count": 14,
   "id": "00c1e400",
   "metadata": {
    "execution": {
     "iopub.execute_input": "2023-10-31T02:05:47.682452Z",
     "iopub.status.busy": "2023-10-31T02:05:47.681911Z",
     "iopub.status.idle": "2023-10-31T02:05:47.692730Z",
     "shell.execute_reply": "2023-10-31T02:05:47.691758Z"
    },
    "papermill": {
     "duration": 0.034478,
     "end_time": "2023-10-31T02:05:47.695107",
     "exception": false,
     "start_time": "2023-10-31T02:05:47.660629",
     "status": "completed"
    },
    "tags": []
   },
   "outputs": [
    {
     "data": {
      "text/plain": [
       "array(['NewYork', 'Boston', 'Phildelphia', 'Pittsburg', 'Buffalo',\n",
       "       'AtlanticCity', 'Portland', 'Cambridge', 'Hartford', 'Springfield',\n",
       "       'Syracuse', 'Baltimore', 'York', 'Trenton', 'Warwick',\n",
       "       'WashingtonDC', 'Providence', 'Harrisburg', 'Newport', 'Stamford',\n",
       "       'Worcester', 'Atlanta', 'Brimingham', 'Charleston', 'Charlotte',\n",
       "       'Louisville', 'Memphis', 'Nashville', 'NewOrleans', 'Raleigh',\n",
       "       'Houston', 'Georgia', 'Oklahoma', 'Orlando', 'Macon', 'Huntsville',\n",
       "       'Knoxville', 'Florence', 'Miami', 'Tampa', 'PanamaCity',\n",
       "       'Kingsport', 'Marshall', 'Mandan', 'Waterloo', 'IowaCity',\n",
       "       'Columbia', 'Indianapolis', 'Cincinnati', 'Bloomington', 'Salina',\n",
       "       'KanasCity', 'Brookings', 'Minot', 'Chicago', 'Lincoln',\n",
       "       'FallsCity', 'GrandForks', 'Fargo', 'Cleveland', 'Canton',\n",
       "       'Columbus', 'Rochester', 'Minneapolis', 'JeffersonCity',\n",
       "       'Escabana', 'Youngstown', 'SantaRosa', 'Eureka', 'SanFrancisco',\n",
       "       'SanJose', 'LosAngeles', 'Oxnard', 'SanDeigo', 'Oceanside',\n",
       "       'Carlsbad', 'Montrose', 'Prescott', 'Fresno', 'Reno', 'LasVegas',\n",
       "       'Tucson', 'SanLuis', 'Denver', 'Kingman', 'Bakersfield',\n",
       "       'Mexicali', 'SilverCity', 'Pheonix', 'SantaFe', 'Lovelock'],\n",
       "      dtype=object)"
      ]
     },
     "execution_count": 14,
     "metadata": {},
     "output_type": "execute_result"
    }
   ],
   "source": [
    "data[\"city\"].unique()"
   ]
  },
  {
   "cell_type": "code",
   "execution_count": 15,
   "id": "05d4bb9f",
   "metadata": {
    "execution": {
     "iopub.execute_input": "2023-10-31T02:05:47.738126Z",
     "iopub.status.busy": "2023-10-31T02:05:47.737602Z",
     "iopub.status.idle": "2023-10-31T02:05:47.761937Z",
     "shell.execute_reply": "2023-10-31T02:05:47.760679Z"
    },
    "papermill": {
     "duration": 0.049145,
     "end_time": "2023-10-31T02:05:47.764520",
     "exception": false,
     "start_time": "2023-10-31T02:05:47.715375",
     "status": "completed"
    },
    "tags": []
   },
   "outputs": [
    {
     "data": {
      "text/plain": [
       "array([55,  5, 63, 64,  8,  1, 65,  9, 29, 79, 81,  3, 89, 83, 85, 86, 67,\n",
       "       28, 56, 80, 88,  0,  6, 12, 13, 42, 47, 53, 54, 68, 30, 26, 58, 59,\n",
       "       44, 31, 38, 24, 49, 82, 61, 37, 46, 45, 87, 33, 17, 32, 15,  4, 71,\n",
       "       35,  7, 51, 14, 40, 22, 27, 23, 16, 10, 18, 70, 50, 34, 20, 90, 77,\n",
       "       21, 73, 74, 41, 60, 72, 57, 11, 52, 66, 25, 69, 39, 84, 75, 19, 36,\n",
       "        2, 48, 78, 62, 76, 43])"
      ]
     },
     "execution_count": 15,
     "metadata": {},
     "output_type": "execute_result"
    }
   ],
   "source": [
    "#label encoding \n",
    "from sklearn.preprocessing import LabelEncoder\n",
    "\n",
    "# Create a LabelEncoder instance\n",
    "label_encoder = LabelEncoder()\n",
    "\n",
    "# Encode the \"city\" column\n",
    "data['city'] = label_encoder.fit_transform(data['city'])\n",
    "data['job_title'] = label_encoder.fit_transform(data['job_title'])\n",
    "data['city'].unique()\n"
   ]
  },
  {
   "cell_type": "code",
   "execution_count": 16,
   "id": "5f5d5278",
   "metadata": {
    "execution": {
     "iopub.execute_input": "2023-10-31T02:05:47.807848Z",
     "iopub.status.busy": "2023-10-31T02:05:47.807344Z",
     "iopub.status.idle": "2023-10-31T02:05:47.816583Z",
     "shell.execute_reply": "2023-10-31T02:05:47.815247Z"
    },
    "papermill": {
     "duration": 0.0346,
     "end_time": "2023-10-31T02:05:47.819473",
     "exception": false,
     "start_time": "2023-10-31T02:05:47.784873",
     "status": "completed"
    },
    "tags": []
   },
   "outputs": [
    {
     "data": {
      "text/plain": [
       "array([ 2, 16,  0, 10, 22, 12, 32, 13, 30, 33, 15, 28, 29,  5,  8,  6,  9,\n",
       "       26,  1, 19, 34, 18,  4, 23, 20,  7, 31, 14,  3, 11, 24, 17, 25, 27,\n",
       "       21])"
      ]
     },
     "execution_count": 16,
     "metadata": {},
     "output_type": "execute_result"
    }
   ],
   "source": [
    "#label encoding done\n",
    "data['job_title'].unique()"
   ]
  },
  {
   "cell_type": "code",
   "execution_count": 17,
   "id": "6585d1b2",
   "metadata": {
    "execution": {
     "iopub.execute_input": "2023-10-31T02:05:47.863639Z",
     "iopub.status.busy": "2023-10-31T02:05:47.863120Z",
     "iopub.status.idle": "2023-10-31T02:05:47.880097Z",
     "shell.execute_reply": "2023-10-31T02:05:47.878084Z"
    },
    "papermill": {
     "duration": 0.042847,
     "end_time": "2023-10-31T02:05:47.883330",
     "exception": false,
     "start_time": "2023-10-31T02:05:47.840483",
     "status": "completed"
    },
    "tags": []
   },
   "outputs": [
    {
     "name": "stdout",
     "output_type": "stream",
     "text": [
      "<class 'pandas.core.frame.DataFrame'>\n",
      "RangeIndex: 15000 entries, 0 to 14999\n",
      "Data columns (total 13 columns):\n",
      " #   Column               Non-Null Count  Dtype  \n",
      "---  ------               --------------  -----  \n",
      " 0   age                  15000 non-null  float64\n",
      " 1   sex                  15000 non-null  int64  \n",
      " 2   weight               15000 non-null  int64  \n",
      " 3   bmi                  15000 non-null  float64\n",
      " 4   hereditary_diseases  15000 non-null  int64  \n",
      " 5   no_of_dependents     15000 non-null  int64  \n",
      " 6   smoker               15000 non-null  int64  \n",
      " 7   city                 15000 non-null  int32  \n",
      " 8   bloodpressure        15000 non-null  int64  \n",
      " 9   diabetes             15000 non-null  int64  \n",
      " 10  regular_ex           15000 non-null  int64  \n",
      " 11  job_title            15000 non-null  int32  \n",
      " 12  claim                15000 non-null  float64\n",
      "dtypes: float64(3), int32(2), int64(8)\n",
      "memory usage: 1.4 MB\n"
     ]
    }
   ],
   "source": [
    "data.info()\n",
    "#data is preproccessed according to our requirement\n"
   ]
  },
  {
   "cell_type": "markdown",
   "id": "62083a0d",
   "metadata": {
    "papermill": {
     "duration": 0.020837,
     "end_time": "2023-10-31T02:05:47.924996",
     "exception": false,
     "start_time": "2023-10-31T02:05:47.904159",
     "status": "completed"
    },
    "tags": []
   },
   "source": [
    "## Selecting Columns for Features and Target\n"
   ]
  },
  {
   "cell_type": "code",
   "execution_count": 18,
   "id": "53468089",
   "metadata": {
    "execution": {
     "iopub.execute_input": "2023-10-31T02:05:47.968275Z",
     "iopub.status.busy": "2023-10-31T02:05:47.967760Z",
     "iopub.status.idle": "2023-10-31T02:05:47.976951Z",
     "shell.execute_reply": "2023-10-31T02:05:47.975469Z"
    },
    "papermill": {
     "duration": 0.034154,
     "end_time": "2023-10-31T02:05:47.979646",
     "exception": false,
     "start_time": "2023-10-31T02:05:47.945492",
     "status": "completed"
    },
    "tags": []
   },
   "outputs": [],
   "source": [
    "# setting feature and target columns\n",
    "x=data.drop(['claim'],axis=1)\n",
    "y=data['claim']"
   ]
  },
  {
   "cell_type": "code",
   "execution_count": 19,
   "id": "a2bb3eeb",
   "metadata": {
    "execution": {
     "iopub.execute_input": "2023-10-31T02:05:48.025579Z",
     "iopub.status.busy": "2023-10-31T02:05:48.025085Z",
     "iopub.status.idle": "2023-10-31T02:05:48.045360Z",
     "shell.execute_reply": "2023-10-31T02:05:48.044423Z"
    },
    "papermill": {
     "duration": 0.047672,
     "end_time": "2023-10-31T02:05:48.047868",
     "exception": false,
     "start_time": "2023-10-31T02:05:48.000196",
     "status": "completed"
    },
    "tags": []
   },
   "outputs": [
    {
     "data": {
      "text/html": [
       "<div>\n",
       "<style scoped>\n",
       "    .dataframe tbody tr th:only-of-type {\n",
       "        vertical-align: middle;\n",
       "    }\n",
       "\n",
       "    .dataframe tbody tr th {\n",
       "        vertical-align: top;\n",
       "    }\n",
       "\n",
       "    .dataframe thead th {\n",
       "        text-align: right;\n",
       "    }\n",
       "</style>\n",
       "<table border=\"1\" class=\"dataframe\">\n",
       "  <thead>\n",
       "    <tr style=\"text-align: right;\">\n",
       "      <th></th>\n",
       "      <th>age</th>\n",
       "      <th>sex</th>\n",
       "      <th>weight</th>\n",
       "      <th>bmi</th>\n",
       "      <th>hereditary_diseases</th>\n",
       "      <th>no_of_dependents</th>\n",
       "      <th>smoker</th>\n",
       "      <th>city</th>\n",
       "      <th>bloodpressure</th>\n",
       "      <th>diabetes</th>\n",
       "      <th>regular_ex</th>\n",
       "      <th>job_title</th>\n",
       "    </tr>\n",
       "  </thead>\n",
       "  <tbody>\n",
       "    <tr>\n",
       "      <th>0</th>\n",
       "      <td>60.0</td>\n",
       "      <td>1</td>\n",
       "      <td>64</td>\n",
       "      <td>24.3</td>\n",
       "      <td>0</td>\n",
       "      <td>1</td>\n",
       "      <td>0</td>\n",
       "      <td>55</td>\n",
       "      <td>72</td>\n",
       "      <td>0</td>\n",
       "      <td>0</td>\n",
       "      <td>2</td>\n",
       "    </tr>\n",
       "    <tr>\n",
       "      <th>1</th>\n",
       "      <td>49.0</td>\n",
       "      <td>0</td>\n",
       "      <td>75</td>\n",
       "      <td>22.6</td>\n",
       "      <td>0</td>\n",
       "      <td>1</td>\n",
       "      <td>0</td>\n",
       "      <td>5</td>\n",
       "      <td>78</td>\n",
       "      <td>1</td>\n",
       "      <td>1</td>\n",
       "      <td>16</td>\n",
       "    </tr>\n",
       "    <tr>\n",
       "      <th>2</th>\n",
       "      <td>32.0</td>\n",
       "      <td>0</td>\n",
       "      <td>64</td>\n",
       "      <td>17.8</td>\n",
       "      <td>1</td>\n",
       "      <td>2</td>\n",
       "      <td>1</td>\n",
       "      <td>63</td>\n",
       "      <td>88</td>\n",
       "      <td>1</td>\n",
       "      <td>1</td>\n",
       "      <td>0</td>\n",
       "    </tr>\n",
       "    <tr>\n",
       "      <th>3</th>\n",
       "      <td>61.0</td>\n",
       "      <td>0</td>\n",
       "      <td>53</td>\n",
       "      <td>36.4</td>\n",
       "      <td>0</td>\n",
       "      <td>1</td>\n",
       "      <td>1</td>\n",
       "      <td>64</td>\n",
       "      <td>72</td>\n",
       "      <td>1</td>\n",
       "      <td>0</td>\n",
       "      <td>10</td>\n",
       "    </tr>\n",
       "    <tr>\n",
       "      <th>4</th>\n",
       "      <td>19.0</td>\n",
       "      <td>0</td>\n",
       "      <td>50</td>\n",
       "      <td>20.6</td>\n",
       "      <td>0</td>\n",
       "      <td>0</td>\n",
       "      <td>0</td>\n",
       "      <td>8</td>\n",
       "      <td>82</td>\n",
       "      <td>1</td>\n",
       "      <td>0</td>\n",
       "      <td>22</td>\n",
       "    </tr>\n",
       "  </tbody>\n",
       "</table>\n",
       "</div>"
      ],
      "text/plain": [
       "    age  sex  weight   bmi  hereditary_diseases  no_of_dependents  smoker   \n",
       "0  60.0    1      64  24.3                    0                 1       0  \\\n",
       "1  49.0    0      75  22.6                    0                 1       0   \n",
       "2  32.0    0      64  17.8                    1                 2       1   \n",
       "3  61.0    0      53  36.4                    0                 1       1   \n",
       "4  19.0    0      50  20.6                    0                 0       0   \n",
       "\n",
       "   city  bloodpressure  diabetes  regular_ex  job_title  \n",
       "0    55             72         0           0          2  \n",
       "1     5             78         1           1         16  \n",
       "2    63             88         1           1          0  \n",
       "3    64             72         1           0         10  \n",
       "4     8             82         1           0         22  "
      ]
     },
     "execution_count": 19,
     "metadata": {},
     "output_type": "execute_result"
    }
   ],
   "source": [
    "# x is for features\n",
    "x.head()"
   ]
  },
  {
   "cell_type": "code",
   "execution_count": 20,
   "id": "6955675a",
   "metadata": {
    "execution": {
     "iopub.execute_input": "2023-10-31T02:05:48.092873Z",
     "iopub.status.busy": "2023-10-31T02:05:48.092289Z",
     "iopub.status.idle": "2023-10-31T02:05:48.102039Z",
     "shell.execute_reply": "2023-10-31T02:05:48.101019Z"
    },
    "papermill": {
     "duration": 0.035112,
     "end_time": "2023-10-31T02:05:48.104345",
     "exception": false,
     "start_time": "2023-10-31T02:05:48.069233",
     "status": "completed"
    },
    "tags": []
   },
   "outputs": [
    {
     "data": {
      "text/plain": [
       "0    13112.6\n",
       "1     9567.0\n",
       "2    32734.2\n",
       "3    48517.6\n",
       "4     1731.7\n",
       "Name: claim, dtype: float64"
      ]
     },
     "execution_count": 20,
     "metadata": {},
     "output_type": "execute_result"
    }
   ],
   "source": [
    "# y is target column\n",
    "y.head()"
   ]
  },
  {
   "cell_type": "markdown",
   "id": "3d02041b",
   "metadata": {
    "papermill": {
     "duration": 0.021132,
     "end_time": "2023-10-31T02:05:48.147181",
     "exception": false,
     "start_time": "2023-10-31T02:05:48.126049",
     "status": "completed"
    },
    "tags": []
   },
   "source": [
    "# Correlation Matrix: Visualize the correlation between numerical features."
   ]
  },
  {
   "cell_type": "code",
   "execution_count": 21,
   "id": "73e117eb",
   "metadata": {
    "execution": {
     "iopub.execute_input": "2023-10-31T02:05:48.191771Z",
     "iopub.status.busy": "2023-10-31T02:05:48.191251Z",
     "iopub.status.idle": "2023-10-31T02:05:49.730448Z",
     "shell.execute_reply": "2023-10-31T02:05:49.729537Z"
    },
    "papermill": {
     "duration": 1.566048,
     "end_time": "2023-10-31T02:05:49.734468",
     "exception": false,
     "start_time": "2023-10-31T02:05:48.168420",
     "status": "completed"
    },
    "tags": []
   },
   "outputs": [
    {
     "data": {
      "image/png": "[encoded data removed]",
      "text/plain": [
       "<Figure size 1000x800 with 2 Axes>"
      ]
     },
     "metadata": {},
     "output_type": "display_data"
    }
   ],
   "source": [
    "import seaborn as sns\n",
    "import matplotlib.pyplot as plt\n",
    "import numpy as np\n",
    "\n",
    "# Create a custom colormap with modified color intensity\n",
    "custom_cmap = sns.color_palette(['#ffffcc', '#a1dab4', '#41b6c4', '#225ea8'])\n",
    "correlation_matrix = data.corr()\n",
    "\n",
    "# Create a heatmap with the custom colormap\n",
    "plt.figure(figsize=(10, 8))\n",
    "sns.heatmap(correlation_matrix, annot=True, cmap=custom_cmap)\n",
    "plt.title('Correlation Matrix')\n",
    "plt.show()\n",
    "\n"
   ]
  },
  {
   "cell_type": "markdown",
   "id": "bf0cd312",
   "metadata": {
    "papermill": {
     "duration": 0.03364,
     "end_time": "2023-10-31T02:05:49.795877",
     "exception": false,
     "start_time": "2023-10-31T02:05:49.762237",
     "status": "completed"
    },
    "tags": []
   },
   "source": [
    "## Train-Test Split\n"
   ]
  },
  {
   "cell_type": "code",
   "execution_count": 22,
   "id": "390ace7a",
   "metadata": {
    "execution": {
     "iopub.execute_input": "2023-10-31T02:05:49.846235Z",
     "iopub.status.busy": "2023-10-31T02:05:49.845629Z",
     "iopub.status.idle": "2023-10-31T02:05:49.860368Z",
     "shell.execute_reply": "2023-10-31T02:05:49.859104Z"
    },
    "papermill": {
     "duration": 0.044109,
     "end_time": "2023-10-31T02:05:49.863531",
     "exception": false,
     "start_time": "2023-10-31T02:05:49.819422",
     "status": "completed"
    },
    "tags": []
   },
   "outputs": [],
   "source": [
    "# Split the dataset into training and testing sets\n",
    "from sklearn.model_selection import train_test_split\n",
    "\n",
    "X_train, X_test, y_train, y_test = train_test_split(x, y, test_size=0.2, random_state=42)\n"
   ]
  },
  {
   "cell_type": "code",
   "execution_count": 23,
   "id": "90129692",
   "metadata": {
    "execution": {
     "iopub.execute_input": "2023-10-31T02:05:49.916187Z",
     "iopub.status.busy": "2023-10-31T02:05:49.915207Z",
     "iopub.status.idle": "2023-10-31T02:05:49.922799Z",
     "shell.execute_reply": "2023-10-31T02:05:49.921870Z"
    },
    "papermill": {
     "duration": 0.038178,
     "end_time": "2023-10-31T02:05:49.925408",
     "exception": false,
     "start_time": "2023-10-31T02:05:49.887230",
     "status": "completed"
    },
    "tags": []
   },
   "outputs": [
    {
     "data": {
      "text/plain": [
       "13112.6"
      ]
     },
     "execution_count": 23,
     "metadata": {},
     "output_type": "execute_result"
    }
   ],
   "source": [
    "y_train[0]"
   ]
  },
  {
   "cell_type": "markdown",
   "id": "ec5f27c1",
   "metadata": {
    "papermill": {
     "duration": 0.023842,
     "end_time": "2023-10-31T02:05:49.973189",
     "exception": false,
     "start_time": "2023-10-31T02:05:49.949347",
     "status": "completed"
    },
    "tags": []
   },
   "source": [
    "## Importing Machine Learning Algorithms from scikit-learn (Sklearn)\n"
   ]
  },
  {
   "cell_type": "code",
   "execution_count": 24,
   "id": "a828d5f5",
   "metadata": {
    "execution": {
     "iopub.execute_input": "2023-10-31T02:05:50.023722Z",
     "iopub.status.busy": "2023-10-31T02:05:50.022769Z",
     "iopub.status.idle": "2023-10-31T02:05:50.254247Z",
     "shell.execute_reply": "2023-10-31T02:05:50.252746Z"
    },
    "papermill": {
     "duration": 0.260647,
     "end_time": "2023-10-31T02:05:50.257627",
     "exception": false,
     "start_time": "2023-10-31T02:05:49.996980",
     "status": "completed"
    },
    "tags": []
   },
   "outputs": [],
   "source": [
    "# Import machine learning algorithms from scikit-learn (Sklearn)\n",
    "from sklearn.linear_model import LinearRegression  # Import Linear Regression for regression tasks\n",
    "from sklearn.ensemble import RandomForestRegressor  # Import RandomForestClassifier for regression tasks\n",
    "from sklearn.svm import SVR  # Import Support Vector Regression for regression tasks\n",
    "from sklearn.ensemble import GradientBoostingRegressor  # Import GradientBoostingRegressor for regression tasks"
   ]
  },
  {
   "cell_type": "code",
   "execution_count": 25,
   "id": "7f3ece66",
   "metadata": {
    "execution": {
     "iopub.execute_input": "2023-10-31T02:05:50.306706Z",
     "iopub.status.busy": "2023-10-31T02:05:50.306138Z",
     "iopub.status.idle": "2023-10-31T02:05:50.370480Z",
     "shell.execute_reply": "2023-10-31T02:05:50.368763Z"
    },
    "papermill": {
     "duration": 0.092053,
     "end_time": "2023-10-31T02:05:50.373206",
     "exception": false,
     "start_time": "2023-10-31T02:05:50.281153",
     "status": "completed"
    },
    "tags": []
   },
   "outputs": [
    {
     "data": {
      "text/html": [
       "<style>#sk-container-id-1 {color: black;background-color: white;}#sk-container-id-1 pre{padding: 0;}#sk-container-id-1 div.sk-toggleable {background-color: white;}#sk-container-id-1 label.sk-toggleable__label {cursor: pointer;display: block;width: 100%;margin-bottom: 0;padding: 0.3em;box-sizing: border-box;text-align: center;}#sk-container-id-1 label.sk-toggleable__label-arrow:before {content: \"▸\";float: left;margin-right: 0.25em;color: #696969;}#sk-container-id-1 label.sk-toggleable__label-arrow:hover:before {color: black;}#sk-container-id-1 div.sk-estimator:hover label.sk-toggleable__label-arrow:before {color: black;}#sk-container-id-1 div.sk-toggleable__content {max-height: 0;max-width: 0;overflow: hidden;text-align: left;background-color: #f0f8ff;}#sk-container-id-1 div.sk-toggleable__content pre {margin: 0.2em;color: black;border-radius: 0.25em;background-color: #f0f8ff;}#sk-container-id-1 input.sk-toggleable__control:checked~div.sk-toggleable__content {max-height: 200px;max-width: 100%;overflow: auto;}#sk-container-id-1 input.sk-toggleable__control:checked~label.sk-toggleable__label-arrow:before {content: \"▾\";}#sk-container-id-1 div.sk-estimator input.sk-toggleable__control:checked~label.sk-toggleable__label {background-color: #d4ebff;}#sk-container-id-1 div.sk-label input.sk-toggleable__control:checked~label.sk-toggleable__label {background-color: #d4ebff;}#sk-container-id-1 input.sk-hidden--visually {border: 0;clip: rect(1px 1px 1px 1px);clip: rect(1px, 1px, 1px, 1px);height: 1px;margin: -1px;overflow: hidden;padding: 0;position: absolute;width: 1px;}#sk-container-id-1 div.sk-estimator {font-family: monospace;background-color: #f0f8ff;border: 1px dotted black;border-radius: 0.25em;box-sizing: border-box;margin-bottom: 0.5em;}#sk-container-id-1 div.sk-estimator:hover {background-color: #d4ebff;}#sk-container-id-1 div.sk-parallel-item::after {content: \"\";width: 100%;border-bottom: 1px solid gray;flex-grow: 1;}#sk-container-id-1 div.sk-label:hover label.sk-toggleable__label {background-color: #d4ebff;}#sk-container-id-1 div.sk-serial::before {content: \"\";position: absolute;border-left: 1px solid gray;box-sizing: border-box;top: 0;bottom: 0;left: 50%;z-index: 0;}#sk-container-id-1 div.sk-serial {display: flex;flex-direction: column;align-items: center;background-color: white;padding-right: 0.2em;padding-left: 0.2em;position: relative;}#sk-container-id-1 div.sk-item {position: relative;z-index: 1;}#sk-container-id-1 div.sk-parallel {display: flex;align-items: stretch;justify-content: center;background-color: white;position: relative;}#sk-container-id-1 div.sk-item::before, #sk-container-id-1 div.sk-parallel-item::before {content: \"\";position: absolute;border-left: 1px solid gray;box-sizing: border-box;top: 0;bottom: 0;left: 50%;z-index: -1;}#sk-container-id-1 div.sk-parallel-item {display: flex;flex-direction: column;z-index: 1;position: relative;background-color: white;}#sk-container-id-1 div.sk-parallel-item:first-child::after {align-self: flex-end;width: 50%;}#sk-container-id-1 div.sk-parallel-item:last-child::after {align-self: flex-start;width: 50%;}#sk-container-id-1 div.sk-parallel-item:only-child::after {width: 0;}#sk-container-id-1 div.sk-dashed-wrapped {border: 1px dashed gray;margin: 0 0.4em 0.5em 0.4em;box-sizing: border-box;padding-bottom: 0.4em;background-color: white;}#sk-container-id-1 div.sk-label label {font-family: monospace;font-weight: bold;display: inline-block;line-height: 1.2em;}#sk-container-id-1 div.sk-label-container {text-align: center;}#sk-container-id-1 div.sk-container {/* jupyter's `normalize.less` sets `[hidden] { display: none; }` but bootstrap.min.css set `[hidden] { display: none !important; }` so we also need the `!important` here to be able to override the default hidden behavior on the sphinx rendered scikit-learn.org. See: https://github.com/scikit-learn/scikit-learn/issues/21755 */display: inline-block !important;position: relative;}#sk-container-id-1 div.sk-text-repr-fallback {display: none;}</style><div id=\"sk-container-id-1\" class=\"sk-top-container\"><div class=\"sk-text-repr-fallback\"><pre>LinearRegression()</pre><b>In a Jupyter environment, please rerun this cell to show the HTML representation or trust the notebook. <br />On GitHub, the HTML representation is unable to render, please try loading this page with nbviewer.org.</b></div><div class=\"sk-container\" hidden><div class=\"sk-item\"><div class=\"sk-estimator sk-toggleable\"><input class=\"sk-toggleable__control sk-hidden--visually\" id=\"sk-estimator-id-1\" type=\"checkbox\" checked><label for=\"sk-estimator-id-1\" class=\"sk-toggleable__label sk-toggleable__label-arrow\">LinearRegression</label><div class=\"sk-toggleable__content\"><pre>LinearRegression()</pre></div></div></div></div></div>"
      ],
      "text/plain": [
       "LinearRegression()"
      ]
     },
     "execution_count": 25,
     "metadata": {},
     "output_type": "execute_result"
    }
   ],
   "source": [
    "# Initialize and train a Linear Regression model\n",
    "lr = LinearRegression()\n",
    "lr.fit(X_train, y_train)\n"
   ]
  },
  {
   "cell_type": "code",
   "execution_count": 26,
   "id": "f2c68448",
   "metadata": {
    "execution": {
     "iopub.execute_input": "2023-10-31T02:05:50.472203Z",
     "iopub.status.busy": "2023-10-31T02:05:50.471254Z",
     "iopub.status.idle": "2023-10-31T02:05:58.834641Z",
     "shell.execute_reply": "2023-10-31T02:05:58.833547Z"
    },
    "papermill": {
     "duration": 8.416405,
     "end_time": "2023-10-31T02:05:58.837160",
     "exception": false,
     "start_time": "2023-10-31T02:05:50.420755",
     "status": "completed"
    },
    "tags": []
   },
   "outputs": [
    {
     "data": {
      "text/html": [
       "<style>#sk-container-id-2 {color: black;background-color: white;}#sk-container-id-2 pre{padding: 0;}#sk-container-id-2 div.sk-toggleable {background-color: white;}#sk-container-id-2 label.sk-toggleable__label {cursor: pointer;display: block;width: 100%;margin-bottom: 0;padding: 0.3em;box-sizing: border-box;text-align: center;}#sk-container-id-2 label.sk-toggleable__label-arrow:before {content: \"▸\";float: left;margin-right: 0.25em;color: #696969;}#sk-container-id-2 label.sk-toggleable__label-arrow:hover:before {color: black;}#sk-container-id-2 div.sk-estimator:hover label.sk-toggleable__label-arrow:before {color: black;}#sk-container-id-2 div.sk-toggleable__content {max-height: 0;max-width: 0;overflow: hidden;text-align: left;background-color: #f0f8ff;}#sk-container-id-2 div.sk-toggleable__content pre {margin: 0.2em;color: black;border-radius: 0.25em;background-color: #f0f8ff;}#sk-container-id-2 input.sk-toggleable__control:checked~div.sk-toggleable__content {max-height: 200px;max-width: 100%;overflow: auto;}#sk-container-id-2 input.sk-toggleable__control:checked~label.sk-toggleable__label-arrow:before {content: \"▾\";}#sk-container-id-2 div.sk-estimator input.sk-toggleable__control:checked~label.sk-toggleable__label {background-color: #d4ebff;}#sk-container-id-2 div.sk-label input.sk-toggleable__control:checked~label.sk-toggleable__label {background-color: #d4ebff;}#sk-container-id-2 input.sk-hidden--visually {border: 0;clip: rect(1px 1px 1px 1px);clip: rect(1px, 1px, 1px, 1px);height: 1px;margin: -1px;overflow: hidden;padding: 0;position: absolute;width: 1px;}#sk-container-id-2 div.sk-estimator {font-family: monospace;background-color: #f0f8ff;border: 1px dotted black;border-radius: 0.25em;box-sizing: border-box;margin-bottom: 0.5em;}#sk-container-id-2 div.sk-estimator:hover {background-color: #d4ebff;}#sk-container-id-2 div.sk-parallel-item::after {content: \"\";width: 100%;border-bottom: 1px solid gray;flex-grow: 1;}#sk-container-id-2 div.sk-label:hover label.sk-toggleable__label {background-color: #d4ebff;}#sk-container-id-2 div.sk-serial::before {content: \"\";position: absolute;border-left: 1px solid gray;box-sizing: border-box;top: 0;bottom: 0;left: 50%;z-index: 0;}#sk-container-id-2 div.sk-serial {display: flex;flex-direction: column;align-items: center;background-color: white;padding-right: 0.2em;padding-left: 0.2em;position: relative;}#sk-container-id-2 div.sk-item {position: relative;z-index: 1;}#sk-container-id-2 div.sk-parallel {display: flex;align-items: stretch;justify-content: center;background-color: white;position: relative;}#sk-container-id-2 div.sk-item::before, #sk-container-id-2 div.sk-parallel-item::before {content: \"\";position: absolute;border-left: 1px solid gray;box-sizing: border-box;top: 0;bottom: 0;left: 50%;z-index: -1;}#sk-container-id-2 div.sk-parallel-item {display: flex;flex-direction: column;z-index: 1;position: relative;background-color: white;}#sk-container-id-2 div.sk-parallel-item:first-child::after {align-self: flex-end;width: 50%;}#sk-container-id-2 div.sk-parallel-item:last-child::after {align-self: flex-start;width: 50%;}#sk-container-id-2 div.sk-parallel-item:only-child::after {width: 0;}#sk-container-id-2 div.sk-dashed-wrapped {border: 1px dashed gray;margin: 0 0.4em 0.5em 0.4em;box-sizing: border-box;padding-bottom: 0.4em;background-color: white;}#sk-container-id-2 div.sk-label label {font-family: monospace;font-weight: bold;display: inline-block;line-height: 1.2em;}#sk-container-id-2 div.sk-label-container {text-align: center;}#sk-container-id-2 div.sk-container {/* jupyter's `normalize.less` sets `[hidden] { display: none; }` but bootstrap.min.css set `[hidden] { display: none !important; }` so we also need the `!important` here to be able to override the default hidden behavior on the sphinx rendered scikit-learn.org. See: https://github.com/scikit-learn/scikit-learn/issues/21755 */display: inline-block !important;position: relative;}#sk-container-id-2 div.sk-text-repr-fallback {display: none;}</style><div id=\"sk-container-id-2\" class=\"sk-top-container\"><div class=\"sk-text-repr-fallback\"><pre>SVR()</pre><b>In a Jupyter environment, please rerun this cell to show the HTML representation or trust the notebook. <br />On GitHub, the HTML representation is unable to render, please try loading this page with nbviewer.org.</b></div><div class=\"sk-container\" hidden><div class=\"sk-item\"><div class=\"sk-estimator sk-toggleable\"><input class=\"sk-toggleable__control sk-hidden--visually\" id=\"sk-estimator-id-2\" type=\"checkbox\" checked><label for=\"sk-estimator-id-2\" class=\"sk-toggleable__label sk-toggleable__label-arrow\">SVR</label><div class=\"sk-toggleable__content\"><pre>SVR()</pre></div></div></div></div></div>"
      ],
      "text/plain": [
       "SVR()"
      ]
     },
     "execution_count": 26,
     "metadata": {},
     "output_type": "execute_result"
    }
   ],
   "source": [
    "# Initialize and train a Support Vector Regression (SVR) model\n",
    "svm = SVR()\n",
    "svm.fit(X_train, y_train)\n"
   ]
  },
  {
   "cell_type": "code",
   "execution_count": 27,
   "id": "ebcbdace",
   "metadata": {
    "execution": {
     "iopub.execute_input": "2023-10-31T02:05:58.889010Z",
     "iopub.status.busy": "2023-10-31T02:05:58.888095Z",
     "iopub.status.idle": "2023-10-31T02:06:02.592983Z",
     "shell.execute_reply": "2023-10-31T02:06:02.591585Z"
    },
    "papermill": {
     "duration": 3.733963,
     "end_time": "2023-10-31T02:06:02.595830",
     "exception": false,
     "start_time": "2023-10-31T02:05:58.861867",
     "status": "completed"
    },
    "tags": []
   },
   "outputs": [
    {
     "data": {
      "text/html": [
       "<style>#sk-container-id-3 {color: black;background-color: white;}#sk-container-id-3 pre{padding: 0;}#sk-container-id-3 div.sk-toggleable {background-color: white;}#sk-container-id-3 label.sk-toggleable__label {cursor: pointer;display: block;width: 100%;margin-bottom: 0;padding: 0.3em;box-sizing: border-box;text-align: center;}#sk-container-id-3 label.sk-toggleable__label-arrow:before {content: \"▸\";float: left;margin-right: 0.25em;color: #696969;}#sk-container-id-3 label.sk-toggleable__label-arrow:hover:before {color: black;}#sk-container-id-3 div.sk-estimator:hover label.sk-toggleable__label-arrow:before {color: black;}#sk-container-id-3 div.sk-toggleable__content {max-height: 0;max-width: 0;overflow: hidden;text-align: left;background-color: #f0f8ff;}#sk-container-id-3 div.sk-toggleable__content pre {margin: 0.2em;color: black;border-radius: 0.25em;background-color: #f0f8ff;}#sk-container-id-3 input.sk-toggleable__control:checked~div.sk-toggleable__content {max-height: 200px;max-width: 100%;overflow: auto;}#sk-container-id-3 input.sk-toggleable__control:checked~label.sk-toggleable__label-arrow:before {content: \"▾\";}#sk-container-id-3 div.sk-estimator input.sk-toggleable__control:checked~label.sk-toggleable__label {background-color: #d4ebff;}#sk-container-id-3 div.sk-label input.sk-toggleable__control:checked~label.sk-toggleable__label {background-color: #d4ebff;}#sk-container-id-3 input.sk-hidden--visually {border: 0;clip: rect(1px 1px 1px 1px);clip: rect(1px, 1px, 1px, 1px);height: 1px;margin: -1px;overflow: hidden;padding: 0;position: absolute;width: 1px;}#sk-container-id-3 div.sk-estimator {font-family: monospace;background-color: #f0f8ff;border: 1px dotted black;border-radius: 0.25em;box-sizing: border-box;margin-bottom: 0.5em;}#sk-container-id-3 div.sk-estimator:hover {background-color: #d4ebff;}#sk-container-id-3 div.sk-parallel-item::after {content: \"\";width: 100%;border-bottom: 1px solid gray;flex-grow: 1;}#sk-container-id-3 div.sk-label:hover label.sk-toggleable__label {background-color: #d4ebff;}#sk-container-id-3 div.sk-serial::before {content: \"\";position: absolute;border-left: 1px solid gray;box-sizing: border-box;top: 0;bottom: 0;left: 50%;z-index: 0;}#sk-container-id-3 div.sk-serial {display: flex;flex-direction: column;align-items: center;background-color: white;padding-right: 0.2em;padding-left: 0.2em;position: relative;}#sk-container-id-3 div.sk-item {position: relative;z-index: 1;}#sk-container-id-3 div.sk-parallel {display: flex;align-items: stretch;justify-content: center;background-color: white;position: relative;}#sk-container-id-3 div.sk-item::before, #sk-container-id-3 div.sk-parallel-item::before {content: \"\";position: absolute;border-left: 1px solid gray;box-sizing: border-box;top: 0;bottom: 0;left: 50%;z-index: -1;}#sk-container-id-3 div.sk-parallel-item {display: flex;flex-direction: column;z-index: 1;position: relative;background-color: white;}#sk-container-id-3 div.sk-parallel-item:first-child::after {align-self: flex-end;width: 50%;}#sk-container-id-3 div.sk-parallel-item:last-child::after {align-self: flex-start;width: 50%;}#sk-container-id-3 div.sk-parallel-item:only-child::after {width: 0;}#sk-container-id-3 div.sk-dashed-wrapped {border: 1px dashed gray;margin: 0 0.4em 0.5em 0.4em;box-sizing: border-box;padding-bottom: 0.4em;background-color: white;}#sk-container-id-3 div.sk-label label {font-family: monospace;font-weight: bold;display: inline-block;line-height: 1.2em;}#sk-container-id-3 div.sk-label-container {text-align: center;}#sk-container-id-3 div.sk-container {/* jupyter's `normalize.less` sets `[hidden] { display: none; }` but bootstrap.min.css set `[hidden] { display: none !important; }` so we also need the `!important` here to be able to override the default hidden behavior on the sphinx rendered scikit-learn.org. See: https://github.com/scikit-learn/scikit-learn/issues/21755 */display: inline-block !important;position: relative;}#sk-container-id-3 div.sk-text-repr-fallback {display: none;}</style><div id=\"sk-container-id-3\" class=\"sk-top-container\"><div class=\"sk-text-repr-fallback\"><pre>RandomForestRegressor()</pre><b>In a Jupyter environment, please rerun this cell to show the HTML representation or trust the notebook. <br />On GitHub, the HTML representation is unable to render, please try loading this page with nbviewer.org.</b></div><div class=\"sk-container\" hidden><div class=\"sk-item\"><div class=\"sk-estimator sk-toggleable\"><input class=\"sk-toggleable__control sk-hidden--visually\" id=\"sk-estimator-id-3\" type=\"checkbox\" checked><label for=\"sk-estimator-id-3\" class=\"sk-toggleable__label sk-toggleable__label-arrow\">RandomForestRegressor</label><div class=\"sk-toggleable__content\"><pre>RandomForestRegressor()</pre></div></div></div></div></div>"
      ],
      "text/plain": [
       "RandomForestRegressor()"
      ]
     },
     "execution_count": 27,
     "metadata": {},
     "output_type": "execute_result"
    }
   ],
   "source": [
    "# Initialize and train a Random Forest Regressor model\n",
    "rf = RandomForestRegressor()\n",
    "rf.fit(X_train, y_train)\n"
   ]
  },
  {
   "cell_type": "code",
   "execution_count": 28,
   "id": "dbf50026",
   "metadata": {
    "execution": {
     "iopub.execute_input": "2023-10-31T02:06:02.647310Z",
     "iopub.status.busy": "2023-10-31T02:06:02.646845Z",
     "iopub.status.idle": "2023-10-31T02:06:03.978890Z",
     "shell.execute_reply": "2023-10-31T02:06:03.977563Z"
    },
    "papermill": {
     "duration": 1.361436,
     "end_time": "2023-10-31T02:06:03.981777",
     "exception": false,
     "start_time": "2023-10-31T02:06:02.620341",
     "status": "completed"
    },
    "tags": []
   },
   "outputs": [
    {
     "data": {
      "text/html": [
       "<style>#sk-container-id-4 {color: black;background-color: white;}#sk-container-id-4 pre{padding: 0;}#sk-container-id-4 div.sk-toggleable {background-color: white;}#sk-container-id-4 label.sk-toggleable__label {cursor: pointer;display: block;width: 100%;margin-bottom: 0;padding: 0.3em;box-sizing: border-box;text-align: center;}#sk-container-id-4 label.sk-toggleable__label-arrow:before {content: \"▸\";float: left;margin-right: 0.25em;color: #696969;}#sk-container-id-4 label.sk-toggleable__label-arrow:hover:before {color: black;}#sk-container-id-4 div.sk-estimator:hover label.sk-toggleable__label-arrow:before {color: black;}#sk-container-id-4 div.sk-toggleable__content {max-height: 0;max-width: 0;overflow: hidden;text-align: left;background-color: #f0f8ff;}#sk-container-id-4 div.sk-toggleable__content pre {margin: 0.2em;color: black;border-radius: 0.25em;background-color: #f0f8ff;}#sk-container-id-4 input.sk-toggleable__control:checked~div.sk-toggleable__content {max-height: 200px;max-width: 100%;overflow: auto;}#sk-container-id-4 input.sk-toggleable__control:checked~label.sk-toggleable__label-arrow:before {content: \"▾\";}#sk-container-id-4 div.sk-estimator input.sk-toggleable__control:checked~label.sk-toggleable__label {background-color: #d4ebff;}#sk-container-id-4 div.sk-label input.sk-toggleable__control:checked~label.sk-toggleable__label {background-color: #d4ebff;}#sk-container-id-4 input.sk-hidden--visually {border: 0;clip: rect(1px 1px 1px 1px);clip: rect(1px, 1px, 1px, 1px);height: 1px;margin: -1px;overflow: hidden;padding: 0;position: absolute;width: 1px;}#sk-container-id-4 div.sk-estimator {font-family: monospace;background-color: #f0f8ff;border: 1px dotted black;border-radius: 0.25em;box-sizing: border-box;margin-bottom: 0.5em;}#sk-container-id-4 div.sk-estimator:hover {background-color: #d4ebff;}#sk-container-id-4 div.sk-parallel-item::after {content: \"\";width: 100%;border-bottom: 1px solid gray;flex-grow: 1;}#sk-container-id-4 div.sk-label:hover label.sk-toggleable__label {background-color: #d4ebff;}#sk-container-id-4 div.sk-serial::before {content: \"\";position: absolute;border-left: 1px solid gray;box-sizing: border-box;top: 0;bottom: 0;left: 50%;z-index: 0;}#sk-container-id-4 div.sk-serial {display: flex;flex-direction: column;align-items: center;background-color: white;padding-right: 0.2em;padding-left: 0.2em;position: relative;}#sk-container-id-4 div.sk-item {position: relative;z-index: 1;}#sk-container-id-4 div.sk-parallel {display: flex;align-items: stretch;justify-content: center;background-color: white;position: relative;}#sk-container-id-4 div.sk-item::before, #sk-container-id-4 div.sk-parallel-item::before {content: \"\";position: absolute;border-left: 1px solid gray;box-sizing: border-box;top: 0;bottom: 0;left: 50%;z-index: -1;}#sk-container-id-4 div.sk-parallel-item {display: flex;flex-direction: column;z-index: 1;position: relative;background-color: white;}#sk-container-id-4 div.sk-parallel-item:first-child::after {align-self: flex-end;width: 50%;}#sk-container-id-4 div.sk-parallel-item:last-child::after {align-self: flex-start;width: 50%;}#sk-container-id-4 div.sk-parallel-item:only-child::after {width: 0;}#sk-container-id-4 div.sk-dashed-wrapped {border: 1px dashed gray;margin: 0 0.4em 0.5em 0.4em;box-sizing: border-box;padding-bottom: 0.4em;background-color: white;}#sk-container-id-4 div.sk-label label {font-family: monospace;font-weight: bold;display: inline-block;line-height: 1.2em;}#sk-container-id-4 div.sk-label-container {text-align: center;}#sk-container-id-4 div.sk-container {/* jupyter's `normalize.less` sets `[hidden] { display: none; }` but bootstrap.min.css set `[hidden] { display: none !important; }` so we also need the `!important` here to be able to override the default hidden behavior on the sphinx rendered scikit-learn.org. See: https://github.com/scikit-learn/scikit-learn/issues/21755 */display: inline-block !important;position: relative;}#sk-container-id-4 div.sk-text-repr-fallback {display: none;}</style><div id=\"sk-container-id-4\" class=\"sk-top-container\"><div class=\"sk-text-repr-fallback\"><pre>GradientBoostingRegressor()</pre><b>In a Jupyter environment, please rerun this cell to show the HTML representation or trust the notebook. <br />On GitHub, the HTML representation is unable to render, please try loading this page with nbviewer.org.</b></div><div class=\"sk-container\" hidden><div class=\"sk-item\"><div class=\"sk-estimator sk-toggleable\"><input class=\"sk-toggleable__control sk-hidden--visually\" id=\"sk-estimator-id-4\" type=\"checkbox\" checked><label for=\"sk-estimator-id-4\" class=\"sk-toggleable__label sk-toggleable__label-arrow\">GradientBoostingRegressor</label><div class=\"sk-toggleable__content\"><pre>GradientBoostingRegressor()</pre></div></div></div></div></div>"
      ],
      "text/plain": [
       "GradientBoostingRegressor()"
      ]
     },
     "execution_count": 28,
     "metadata": {},
     "output_type": "execute_result"
    }
   ],
   "source": [
    "# Initialize and train a Gradient Boosting Regressor model\n",
    "gr = GradientBoostingRegressor()\n",
    "gr.fit(X_train, y_train)\n"
   ]
  },
  {
   "cell_type": "markdown",
   "id": "ab7be310",
   "metadata": {
    "papermill": {
     "duration": 0.025329,
     "end_time": "2023-10-31T02:06:04.032455",
     "exception": false,
     "start_time": "2023-10-31T02:06:04.007126",
     "status": "completed"
    },
    "tags": []
   },
   "source": [
    "# Comparing the predictions from each model"
   ]
  },
  {
   "cell_type": "code",
   "execution_count": 29,
   "id": "c9ecccf5",
   "metadata": {
    "execution": {
     "iopub.execute_input": "2023-10-31T02:06:04.083954Z",
     "iopub.status.busy": "2023-10-31T02:06:04.083440Z",
     "iopub.status.idle": "2023-10-31T02:06:06.349328Z",
     "shell.execute_reply": "2023-10-31T02:06:06.347757Z"
    },
    "papermill": {
     "duration": 2.296602,
     "end_time": "2023-10-31T02:06:06.353429",
     "exception": false,
     "start_time": "2023-10-31T02:06:04.056827",
     "status": "completed"
    },
    "tags": []
   },
   "outputs": [
    {
     "data": {
      "text/html": [
       "<div>\n",
       "<style scoped>\n",
       "    .dataframe tbody tr th:only-of-type {\n",
       "        vertical-align: middle;\n",
       "    }\n",
       "\n",
       "    .dataframe tbody tr th {\n",
       "        vertical-align: top;\n",
       "    }\n",
       "\n",
       "    .dataframe thead th {\n",
       "        text-align: right;\n",
       "    }\n",
       "</style>\n",
       "<table border=\"1\" class=\"dataframe\">\n",
       "  <thead>\n",
       "    <tr style=\"text-align: right;\">\n",
       "      <th></th>\n",
       "      <th>Actual</th>\n",
       "      <th>LR</th>\n",
       "      <th>SVR</th>\n",
       "      <th>RF</th>\n",
       "      <th>GR</th>\n",
       "    </tr>\n",
       "  </thead>\n",
       "  <tbody>\n",
       "    <tr>\n",
       "      <th>11499</th>\n",
       "      <td>8835.3</td>\n",
       "      <td>12682.416045</td>\n",
       "      <td>9474.125363</td>\n",
       "      <td>8835.300</td>\n",
       "      <td>10165.152071</td>\n",
       "    </tr>\n",
       "    <tr>\n",
       "      <th>6475</th>\n",
       "      <td>2134.9</td>\n",
       "      <td>925.146282</td>\n",
       "      <td>9047.537556</td>\n",
       "      <td>2587.061</td>\n",
       "      <td>3040.179034</td>\n",
       "    </tr>\n",
       "    <tr>\n",
       "      <th>13167</th>\n",
       "      <td>5148.6</td>\n",
       "      <td>7011.110666</td>\n",
       "      <td>9245.985167</td>\n",
       "      <td>5148.600</td>\n",
       "      <td>5163.613637</td>\n",
       "    </tr>\n",
       "    <tr>\n",
       "      <th>862</th>\n",
       "      <td>10704.5</td>\n",
       "      <td>11868.577020</td>\n",
       "      <td>9569.318628</td>\n",
       "      <td>10726.079</td>\n",
       "      <td>12409.145977</td>\n",
       "    </tr>\n",
       "    <tr>\n",
       "      <th>5970</th>\n",
       "      <td>4260.7</td>\n",
       "      <td>5908.251384</td>\n",
       "      <td>9272.803219</td>\n",
       "      <td>4260.700</td>\n",
       "      <td>6091.596257</td>\n",
       "    </tr>\n",
       "    <tr>\n",
       "      <th>...</th>\n",
       "      <td>...</td>\n",
       "      <td>...</td>\n",
       "      <td>...</td>\n",
       "      <td>...</td>\n",
       "      <td>...</td>\n",
       "    </tr>\n",
       "    <tr>\n",
       "      <th>6216</th>\n",
       "      <td>12032.3</td>\n",
       "      <td>8793.573426</td>\n",
       "      <td>9601.785410</td>\n",
       "      <td>12077.302</td>\n",
       "      <td>12643.647667</td>\n",
       "    </tr>\n",
       "    <tr>\n",
       "      <th>3585</th>\n",
       "      <td>11658.4</td>\n",
       "      <td>12223.322920</td>\n",
       "      <td>9592.051905</td>\n",
       "      <td>11658.400</td>\n",
       "      <td>12011.727068</td>\n",
       "    </tr>\n",
       "    <tr>\n",
       "      <th>10023</th>\n",
       "      <td>11085.6</td>\n",
       "      <td>12919.730363</td>\n",
       "      <td>9458.428303</td>\n",
       "      <td>11085.600</td>\n",
       "      <td>10375.943543</td>\n",
       "    </tr>\n",
       "    <tr>\n",
       "      <th>14044</th>\n",
       "      <td>2166.7</td>\n",
       "      <td>3771.385204</td>\n",
       "      <td>9087.881728</td>\n",
       "      <td>2166.700</td>\n",
       "      <td>3591.910234</td>\n",
       "    </tr>\n",
       "    <tr>\n",
       "      <th>12965</th>\n",
       "      <td>6184.3</td>\n",
       "      <td>7674.761390</td>\n",
       "      <td>9320.274646</td>\n",
       "      <td>6184.300</td>\n",
       "      <td>7060.116219</td>\n",
       "    </tr>\n",
       "  </tbody>\n",
       "</table>\n",
       "<p>3000 rows × 5 columns</p>\n",
       "</div>"
      ],
      "text/plain": [
       "        Actual            LR          SVR         RF            GR\n",
       "11499   8835.3  12682.416045  9474.125363   8835.300  10165.152071\n",
       "6475    2134.9    925.146282  9047.537556   2587.061   3040.179034\n",
       "13167   5148.6   7011.110666  9245.985167   5148.600   5163.613637\n",
       "862    10704.5  11868.577020  9569.318628  10726.079  12409.145977\n",
       "5970    4260.7   5908.251384  9272.803219   4260.700   6091.596257\n",
       "...        ...           ...          ...        ...           ...\n",
       "6216   12032.3   8793.573426  9601.785410  12077.302  12643.647667\n",
       "3585   11658.4  12223.322920  9592.051905  11658.400  12011.727068\n",
       "10023  11085.6  12919.730363  9458.428303  11085.600  10375.943543\n",
       "14044   2166.7   3771.385204  9087.881728   2166.700   3591.910234\n",
       "12965   6184.3   7674.761390  9320.274646   6184.300   7060.116219\n",
       "\n",
       "[3000 rows x 5 columns]"
      ]
     },
     "execution_count": 29,
     "metadata": {},
     "output_type": "execute_result"
    }
   ],
   "source": [
    "# Make predictions using the Linear Regression (LR) model on the test data\n",
    "y_pred1 = lr.predict(X_test)\n",
    "\n",
    "# Make predictions using the Support Vector Regression (SVR) model on the test data\n",
    "y_pred2 = svm.predict(X_test)\n",
    "\n",
    "# Make predictions using the Random Forest Regressor (RF) model on the test data\n",
    "y_pred3 = rf.predict(X_test)\n",
    "\n",
    "# Make predictions using the Gradient Boosting Regressor (GR) model on the test data\n",
    "y_pred4 = gr.predict(X_test)\n",
    "\n",
    "# DataFrame to compare actual and predicted values\n",
    "df1 = pd.DataFrame({'Actual': y_test, 'LR': y_pred1, 'SVR': y_pred2, 'RF': y_pred3, 'GR': y_pred4})\n",
    "df1\n"
   ]
  },
  {
   "cell_type": "markdown",
   "id": "fe5fa7c9",
   "metadata": {
    "papermill": {
     "duration": 0.023154,
     "end_time": "2023-10-31T02:06:06.400335",
     "exception": false,
     "start_time": "2023-10-31T02:06:06.377181",
     "status": "completed"
    },
    "tags": []
   },
   "source": [
    "# visual comparision among output of each model"
   ]
  },
  {
   "cell_type": "code",
   "execution_count": 30,
   "id": "6a339200",
   "metadata": {
    "execution": {
     "iopub.execute_input": "2023-10-31T02:06:06.448983Z",
     "iopub.status.busy": "2023-10-31T02:06:06.448535Z",
     "iopub.status.idle": "2023-10-31T02:06:06.454357Z",
     "shell.execute_reply": "2023-10-31T02:06:06.453049Z"
    },
    "papermill": {
     "duration": 0.033158,
     "end_time": "2023-10-31T02:06:06.456977",
     "exception": false,
     "start_time": "2023-10-31T02:06:06.423819",
     "status": "completed"
    },
    "tags": []
   },
   "outputs": [],
   "source": [
    "import matplotlib.pyplot as plt"
   ]
  },
  {
   "cell_type": "code",
   "execution_count": 31,
   "id": "112bdde7",
   "metadata": {
    "execution": {
     "iopub.execute_input": "2023-10-31T02:06:06.506565Z",
     "iopub.status.busy": "2023-10-31T02:06:06.506036Z",
     "iopub.status.idle": "2023-10-31T02:06:07.534751Z",
     "shell.execute_reply": "2023-10-31T02:06:07.533439Z"
    },
    "papermill": {
     "duration": 1.058166,
     "end_time": "2023-10-31T02:06:07.538748",
     "exception": false,
     "start_time": "2023-10-31T02:06:06.480582",
     "status": "completed"
    },
    "tags": []
   },
   "outputs": [
    {
     "data": {
      "image/png": "[encoded data removed]",
      "text/plain": [
       "<Figure size 640x480 with 4 Axes>"
      ]
     },
     "metadata": {},
     "output_type": "display_data"
    }
   ],
   "source": [
    "plt.subplot(221)\n",
    "plt.plot(df1['Actual'].iloc[0:11], label='Actual')\n",
    "plt.plot(df1['LR'].iloc[0:11], label=\"LR\")\n",
    "plt.legend()\n",
    "plt.title('Linear Regression Predictions')\n",
    "\n",
    "plt.subplot(222)\n",
    "plt.plot(df1['Actual'].iloc[0:11], label='Actual')\n",
    "plt.plot(df1['SVR'].iloc[0:11], label=\"SVR\")\n",
    "plt.legend()\n",
    "plt.title('Support Vector Regression Predictions')\n",
    "\n",
    "plt.subplot(223)\n",
    "plt.plot(df1['Actual'].iloc[0:11], label='Actual')\n",
    "plt.plot(df1['RF'].iloc[0:11], label=\"RF\")\n",
    "plt.legend()\n",
    "plt.title('Random Forest Predictions')\n",
    "\n",
    "plt.subplot(224)\n",
    "plt.plot(df1['Actual'].iloc[0:11], label='Actual')\n",
    "plt.plot(df1['GR'].iloc[0:11], label=\"GR\")\n",
    "plt.title('Gradient Boosting Predictions')\n",
    "\n",
    "plt.tight_layout()\n",
    "\n",
    "# Display the legend outside the subplots\n",
    "plt.legend(loc='upper center', bbox_to_anchor=(0.5, -0.15), fancybox=True, shadow=True)\n",
    "\n",
    "# Show the entire plot\n",
    "plt.show()\n"
   ]
  },
  {
   "cell_type": "markdown",
   "id": "330927f2",
   "metadata": {
    "papermill": {
     "duration": 0.026449,
     "end_time": "2023-10-31T02:06:07.593940",
     "exception": false,
     "start_time": "2023-10-31T02:06:07.567491",
     "status": "completed"
    },
    "tags": []
   },
   "source": [
    "random forest regressor is giving most accurate results"
   ]
  },
  {
   "cell_type": "code",
   "execution_count": 32,
   "id": "9bb9ca00",
   "metadata": {
    "execution": {
     "iopub.execute_input": "2023-10-31T02:06:07.649895Z",
     "iopub.status.busy": "2023-10-31T02:06:07.649344Z",
     "iopub.status.idle": "2023-10-31T02:06:07.654875Z",
     "shell.execute_reply": "2023-10-31T02:06:07.653604Z"
    },
    "papermill": {
     "duration": 0.036803,
     "end_time": "2023-10-31T02:06:07.657414",
     "exception": false,
     "start_time": "2023-10-31T02:06:07.620611",
     "status": "completed"
    },
    "tags": []
   },
   "outputs": [],
   "source": [
    "from sklearn import metrics"
   ]
  },
  {
   "cell_type": "code",
   "execution_count": 33,
   "id": "4d83bee9",
   "metadata": {
    "execution": {
     "iopub.execute_input": "2023-10-31T02:06:07.715610Z",
     "iopub.status.busy": "2023-10-31T02:06:07.715100Z",
     "iopub.status.idle": "2023-10-31T02:06:07.726719Z",
     "shell.execute_reply": "2023-10-31T02:06:07.725393Z"
    },
    "papermill": {
     "duration": 0.044748,
     "end_time": "2023-10-31T02:06:07.730173",
     "exception": false,
     "start_time": "2023-10-31T02:06:07.685425",
     "status": "completed"
    },
    "tags": []
   },
   "outputs": [],
   "source": [
    "# Calculate and store the R-squared (R2) score for the Linear Regression (LR) model\n",
    "lr_r2_score = metrics.r2_score(y_test, y_pred1)\n",
    "\n",
    "# Calculate and store the R-squared (R2) score for the Support Vector Regression (SVR) model\n",
    "svm_r2_score = metrics.r2_score(y_test, y_pred2)\n",
    "\n",
    "# Calculate and store the R-squared (R2) score for the Random Forest Regressor (RF) model\n",
    "rf_r2_score = metrics.r2_score(y_test, y_pred3)\n",
    "\n",
    "# Calculate and store the R-squared (R2) score for the Gradient Boosting Regressor (GR) model\n",
    "gr_r2_score = metrics.r2_score(y_test, y_pred4)\n"
   ]
  },
  {
   "cell_type": "code",
   "execution_count": 34,
   "id": "f01690c6",
   "metadata": {
    "execution": {
     "iopub.execute_input": "2023-10-31T02:06:07.786501Z",
     "iopub.status.busy": "2023-10-31T02:06:07.786026Z",
     "iopub.status.idle": "2023-10-31T02:06:07.793395Z",
     "shell.execute_reply": "2023-10-31T02:06:07.792026Z"
    },
    "papermill": {
     "duration": 0.039,
     "end_time": "2023-10-31T02:06:07.796417",
     "exception": false,
     "start_time": "2023-10-31T02:06:07.757417",
     "status": "completed"
    },
    "tags": []
   },
   "outputs": [
    {
     "name": "stdout",
     "output_type": "stream",
     "text": [
      "R-squared Score for Linear Regression (LR): 0.7490864602549505\n",
      "R-squared Score for Support Vector Regression (SVR): -0.10367227528667633\n",
      "R-squared Score for Random Forest Regressor (RF): 0.9671702501750067\n",
      "R-squared Score for Gradient Boosting Regressor (GR): 0.86352292560806\n"
     ]
    }
   ],
   "source": [
    "# Print R-squared (R2) scores for each model\n",
    "print(\"R-squared Score for Linear Regression (LR):\", lr_r2_score)\n",
    "print(\"R-squared Score for Support Vector Regression (SVR):\", svm_r2_score)\n",
    "print(\"R-squared Score for Random Forest Regressor (RF):\", rf_r2_score)\n",
    "print(\"R-squared Score for Gradient Boosting Regressor (GR):\", gr_r2_score)\n"
   ]
  },
  {
   "cell_type": "markdown",
   "id": "1d2a5b6f",
   "metadata": {
    "papermill": {
     "duration": 0.026843,
     "end_time": "2023-10-31T02:06:07.850995",
     "exception": false,
     "start_time": "2023-10-31T02:06:07.824152",
     "status": "completed"
    },
    "tags": []
   },
   "source": [
    "#### Model Performance\n",
    "\n",
    "Among the evaluated machine learning models, the Random Forest Regressor (RF) emerges as the top performer. With an exceptionally high R-squared (R2) score of 0.9664, it excels in explaining approximately 96.64% of the variance in health insurance claim amounts. This outstanding performance positions the Random Forest Regressor as the most effective model for predicting health insurance claims in our analysis.\n"
   ]
  },
  {
   "cell_type": "code",
   "execution_count": 35,
   "id": "2bc6b58b",
   "metadata": {
    "execution": {
     "iopub.execute_input": "2023-10-31T02:06:07.908314Z",
     "iopub.status.busy": "2023-10-31T02:06:07.907832Z",
     "iopub.status.idle": "2023-10-31T02:06:07.918223Z",
     "shell.execute_reply": "2023-10-31T02:06:07.917078Z"
    },
    "papermill": {
     "duration": 0.043431,
     "end_time": "2023-10-31T02:06:07.921186",
     "exception": false,
     "start_time": "2023-10-31T02:06:07.877755",
     "status": "completed"
    },
    "tags": []
   },
   "outputs": [],
   "source": [
    "# Calculate and store the Mean Absolute Error (MAE) for the Linear Regression (LR) model\n",
    "mae_lr = metrics.mean_absolute_error(y_test, y_pred1)\n",
    "\n",
    "# Calculate and store the Mean Absolute Error (MAE) for the Support Vector Regression (SVR) model\n",
    "mae_svr = metrics.mean_absolute_error(y_test, y_pred2)\n",
    "\n",
    "# Calculate and store the Mean Absolute Error (MAE) for the Random Forest Regressor (RF) model\n",
    "mae_rf = metrics.mean_absolute_error(y_test, y_pred3)\n",
    "\n",
    "# Calculate and store the Mean Absolute Error (MAE) for the Gradient Boosting Regressor (GR) model\n",
    "mae_gr = metrics.mean_absolute_error(y_test, y_pred4)\n"
   ]
  },
  {
   "cell_type": "code",
   "execution_count": 36,
   "id": "faeb1169",
   "metadata": {
    "execution": {
     "iopub.execute_input": "2023-10-31T02:06:07.978585Z",
     "iopub.status.busy": "2023-10-31T02:06:07.977614Z",
     "iopub.status.idle": "2023-10-31T02:06:07.985859Z",
     "shell.execute_reply": "2023-10-31T02:06:07.984447Z"
    },
    "papermill": {
     "duration": 0.039467,
     "end_time": "2023-10-31T02:06:07.988437",
     "exception": false,
     "start_time": "2023-10-31T02:06:07.948970",
     "status": "completed"
    },
    "tags": []
   },
   "outputs": [
    {
     "name": "stdout",
     "output_type": "stream",
     "text": [
      "MAE for Linear Regression (LR): 4071.725236568482\n",
      "MAE for Support Vector Regression (SVR): 8291.201612038634\n",
      "MAE for Random Forest Regressor (RF): 446.95144266667506\n",
      "MAE for Gradient Boosting Regressor (GR): 2664.906212802254\n"
     ]
    }
   ],
   "source": [
    "# Print the Mean Absolute Error (MAE) for each model\n",
    "print(\"MAE for Linear Regression (LR):\", mae_lr)\n",
    "print(\"MAE for Support Vector Regression (SVR):\", mae_svr)\n",
    "print(\"MAE for Random Forest Regressor (RF):\", mae_rf)\n",
    "print(\"MAE for Gradient Boosting Regressor (GR):\", mae_gr)"
   ]
  },
  {
   "cell_type": "markdown",
   "id": "86a89103",
   "metadata": {
    "papermill": {
     "duration": 0.026959,
     "end_time": "2023-10-31T02:06:08.043408",
     "exception": false,
     "start_time": "2023-10-31T02:06:08.016449",
     "status": "completed"
    },
    "tags": []
   },
   "source": [
    "##### Model Performance Based on MAE\n",
    "\n",
    "The Random Forest Regressor (RF) stands out as the best-performing model, with the lowest MAE, signifying its accuracy in predicting health insurance claim amounts.\n"
   ]
  },
  {
   "cell_type": "markdown",
   "id": "a2e3637d",
   "metadata": {
    "papermill": {
     "duration": 0.026589,
     "end_time": "2023-10-31T02:06:08.097493",
     "exception": false,
     "start_time": "2023-10-31T02:06:08.070904",
     "status": "completed"
    },
    "tags": []
   },
   "source": [
    "## prediction on random new customer"
   ]
  },
  {
   "cell_type": "code",
   "execution_count": 37,
   "id": "c9ea9da4",
   "metadata": {
    "execution": {
     "iopub.execute_input": "2023-10-31T02:06:08.157538Z",
     "iopub.status.busy": "2023-10-31T02:06:08.156324Z",
     "iopub.status.idle": "2023-10-31T02:06:08.173685Z",
     "shell.execute_reply": "2023-10-31T02:06:08.172740Z"
    },
    "papermill": {
     "duration": 0.050631,
     "end_time": "2023-10-31T02:06:08.176194",
     "exception": false,
     "start_time": "2023-10-31T02:06:08.125563",
     "status": "completed"
    },
    "tags": []
   },
   "outputs": [
    {
     "data": {
      "text/html": [
       "<div>\n",
       "<style scoped>\n",
       "    .dataframe tbody tr th:only-of-type {\n",
       "        vertical-align: middle;\n",
       "    }\n",
       "\n",
       "    .dataframe tbody tr th {\n",
       "        vertical-align: top;\n",
       "    }\n",
       "\n",
       "    .dataframe thead th {\n",
       "        text-align: right;\n",
       "    }\n",
       "</style>\n",
       "<table border=\"1\" class=\"dataframe\">\n",
       "  <thead>\n",
       "    <tr style=\"text-align: right;\">\n",
       "      <th></th>\n",
       "      <th>age</th>\n",
       "      <th>sex</th>\n",
       "      <th>weight</th>\n",
       "      <th>bmi</th>\n",
       "      <th>hereditary_diseases</th>\n",
       "      <th>no_of_dependents</th>\n",
       "      <th>smoker</th>\n",
       "      <th>city</th>\n",
       "      <th>bloodpressure</th>\n",
       "      <th>diabetes</th>\n",
       "      <th>regular_ex</th>\n",
       "      <th>job_title</th>\n",
       "    </tr>\n",
       "  </thead>\n",
       "  <tbody>\n",
       "    <tr>\n",
       "      <th>0</th>\n",
       "      <td>60.0</td>\n",
       "      <td>1</td>\n",
       "      <td>64</td>\n",
       "      <td>24.3</td>\n",
       "      <td>0</td>\n",
       "      <td>1</td>\n",
       "      <td>0</td>\n",
       "      <td>55</td>\n",
       "      <td>72</td>\n",
       "      <td>0</td>\n",
       "      <td>0</td>\n",
       "      <td>2</td>\n",
       "    </tr>\n",
       "  </tbody>\n",
       "</table>\n",
       "</div>"
      ],
      "text/plain": [
       "    age  sex  weight   bmi  hereditary_diseases  no_of_dependents  smoker   \n",
       "0  60.0    1      64  24.3                    0                 1       0  \\\n",
       "\n",
       "   city  bloodpressure  diabetes  regular_ex  job_title  \n",
       "0    55             72         0           0          2  "
      ]
     },
     "execution_count": 37,
     "metadata": {},
     "output_type": "execute_result"
    }
   ],
   "source": [
    "new_df = pd.DataFrame(X_train,index=[0])\n",
    "new_df"
   ]
  },
  {
   "cell_type": "code",
   "execution_count": 38,
   "id": "59f77858",
   "metadata": {
    "execution": {
     "iopub.execute_input": "2023-10-31T02:06:08.234218Z",
     "iopub.status.busy": "2023-10-31T02:06:08.233394Z",
     "iopub.status.idle": "2023-10-31T02:06:08.243446Z",
     "shell.execute_reply": "2023-10-31T02:06:08.242173Z"
    },
    "papermill": {
     "duration": 0.042263,
     "end_time": "2023-10-31T02:06:08.246355",
     "exception": false,
     "start_time": "2023-10-31T02:06:08.204092",
     "status": "completed"
    },
    "tags": []
   },
   "outputs": [
    {
     "name": "stdout",
     "output_type": "stream",
     "text": [
      "Medical Insurance cost for New Customer is: 15776.39108443161\n"
     ]
    }
   ],
   "source": [
    "# Use the trained Gradient Boosting Regressor (GR) model to make predictions for a new customer\n",
    "new_pred = gr.predict(new_df)\n",
    "\n",
    "# Print the predicted medical insurance cost for the new customer\n",
    "print(\"Medical Insurance cost for New Customer is:\", new_pred[0])\n"
   ]
  },
  {
   "cell_type": "code",
   "execution_count": 39,
   "id": "20e915bf",
   "metadata": {
    "execution": {
     "iopub.execute_input": "2023-10-31T02:06:08.304122Z",
     "iopub.status.busy": "2023-10-31T02:06:08.303156Z",
     "iopub.status.idle": "2023-10-31T02:06:08.319287Z",
     "shell.execute_reply": "2023-10-31T02:06:08.317889Z"
    },
    "papermill": {
     "duration": 0.048824,
     "end_time": "2023-10-31T02:06:08.322344",
     "exception": false,
     "start_time": "2023-10-31T02:06:08.273520",
     "status": "completed"
    },
    "tags": []
   },
   "outputs": [
    {
     "name": "stdout",
     "output_type": "stream",
     "text": [
      "Medical Insurance cost for New Customer (Random Forest Regressor) is: 13112.600000000008\n"
     ]
    }
   ],
   "source": [
    "# Use the trained Random Forest Regressor (RF) model to make predictions for a new customer\n",
    "new_pred_rf = rf.predict(new_df)\n",
    "\n",
    "# Print the predicted medical insurance cost for the new customer using Random Forest Regressor\n",
    "print(\"Medical Insurance cost for New Customer (Random Forest Regressor) is:\", new_pred_rf[0])"
   ]
  },
  {
   "cell_type": "code",
   "execution_count": 40,
   "id": "97a3f8f6",
   "metadata": {
    "execution": {
     "iopub.execute_input": "2023-10-31T02:06:08.379679Z",
     "iopub.status.busy": "2023-10-31T02:06:08.379135Z",
     "iopub.status.idle": "2023-10-31T02:06:08.386918Z",
     "shell.execute_reply": "2023-10-31T02:06:08.386008Z"
    },
    "papermill": {
     "duration": 0.039224,
     "end_time": "2023-10-31T02:06:08.389157",
     "exception": false,
     "start_time": "2023-10-31T02:06:08.349933",
     "status": "completed"
    },
    "tags": []
   },
   "outputs": [
    {
     "data": {
      "text/plain": [
       "13112.6"
      ]
     },
     "execution_count": 40,
     "metadata": {},
     "output_type": "execute_result"
    }
   ],
   "source": [
    "y_train[0]\n",
    "#Random Forest Regressor (RF) model is predicting more accurately"
   ]
  },
  {
   "cell_type": "code",
   "execution_count": 41,
   "id": "155b9a48",
   "metadata": {
    "execution": {
     "iopub.execute_input": "2023-10-31T02:06:08.447592Z",
     "iopub.status.busy": "2023-10-31T02:06:08.446195Z",
     "iopub.status.idle": "2023-10-31T02:06:08.463933Z",
     "shell.execute_reply": "2023-10-31T02:06:08.462418Z"
    },
    "papermill": {
     "duration": 0.050377,
     "end_time": "2023-10-31T02:06:08.467022",
     "exception": false,
     "start_time": "2023-10-31T02:06:08.416645",
     "status": "completed"
    },
    "tags": []
   },
   "outputs": [
    {
     "name": "stdout",
     "output_type": "stream",
     "text": [
      "    age  sex  weight   bmi  hereditary_diseases  no_of_dependents  smoker   \n",
      "0  50.0    0      55  24.3                    0                 1       0  \\\n",
      "\n",
      "   city  bloodpressure  diabetes  regular_ex  job_title  \n",
      "0    55             72         0           0          2  \n"
     ]
    }
   ],
   "source": [
    "\n",
    "# Create a dictionary with the sample data\n",
    "sample_data = {\n",
    "    'age': [50.0],\n",
    "    'sex': [0],\n",
    "    'weight': [55],\n",
    "    'bmi': [24.3],\n",
    "    'hereditary_diseases': [0],\n",
    "    'no_of_dependents': [1],\n",
    "    'smoker': [0],\n",
    "    'city': [55],\n",
    "    'bloodpressure': [72],\n",
    "    'diabetes': [0],\n",
    "    'regular_ex': [0],\n",
    "    'job_title': [2]\n",
    "}\n",
    "\n",
    "# Create a DataFrame from the sample data\n",
    "sample_df = pd.DataFrame(sample_data)\n",
    "\n",
    "# Display the sample DataFrame\n",
    "print(sample_df)\n"
   ]
  },
  {
   "cell_type": "code",
   "execution_count": 42,
   "id": "26652e2e",
   "metadata": {
    "execution": {
     "iopub.execute_input": "2023-10-31T02:06:08.526592Z",
     "iopub.status.busy": "2023-10-31T02:06:08.525589Z",
     "iopub.status.idle": "2023-10-31T02:06:08.535763Z",
     "shell.execute_reply": "2023-10-31T02:06:08.534452Z"
    },
    "papermill": {
     "duration": 0.043195,
     "end_time": "2023-10-31T02:06:08.538792",
     "exception": false,
     "start_time": "2023-10-31T02:06:08.495597",
     "status": "completed"
    },
    "tags": []
   },
   "outputs": [
    {
     "name": "stdout",
     "output_type": "stream",
     "text": [
      "Medical Insurance cost for New Customer is: 10898.609132987911\n"
     ]
    }
   ],
   "source": [
    "# Use the trained Gradient Boosting Regressor (GR) model to make predictions for a new customer\n",
    "new_pred = gr.predict(sample_df)\n",
    "\n",
    "# Print the predicted medical insurance cost for the new customer\n",
    "print(\"Medical Insurance cost for New Customer is:\", new_pred[0])\n"
   ]
  },
  {
   "cell_type": "code",
   "execution_count": 43,
   "id": "2b98a9d6",
   "metadata": {
    "execution": {
     "iopub.execute_input": "2023-10-31T02:06:08.598599Z",
     "iopub.status.busy": "2023-10-31T02:06:08.597472Z",
     "iopub.status.idle": "2023-10-31T02:06:08.616459Z",
     "shell.execute_reply": "2023-10-31T02:06:08.614586Z"
    },
    "papermill": {
     "duration": 0.052204,
     "end_time": "2023-10-31T02:06:08.620153",
     "exception": false,
     "start_time": "2023-10-31T02:06:08.567949",
     "status": "completed"
    },
    "tags": []
   },
   "outputs": [
    {
     "name": "stdout",
     "output_type": "stream",
     "text": [
      "Medical Insurance cost for New Customer (Random Forest Regressor) is: 15487.689000000004\n"
     ]
    }
   ],
   "source": [
    "# Use the trained Random Forest Regressor (RF) model to make predictions for a new customer\n",
    "new_pred_rf = rf.predict(sample_df)\n",
    "\n",
    "# Print the predicted medical insurance cost for the new customer using Random Forest Regressor\n",
    "print(\"Medical Insurance cost for New Customer (Random Forest Regressor) is:\", new_pred_rf[0])\n"
   ]
  },
  {
   "cell_type": "code",
   "execution_count": 1,
   "id": "025f4e6e",
   "metadata": {
    "papermill": {
     "duration": 0.02783,
     "end_time": "2023-10-31T02:06:08.676332",
     "exception": false,
     "start_time": "2023-10-31T02:06:08.648502",
     "status": "completed"
    },
    "tags": []
   },
   "outputs": [
    {
     "name": "stdout",
     "output_type": "stream",
     "text": [
      "Model saved successfully!\n"
     ]
    }
   ],
   "source": [
    "import pandas as pd\n",
    "import joblib\n",
    "from sklearn.impute import SimpleImputer\n",
    "from sklearn.preprocessing import LabelEncoder\n",
    "from sklearn.model_selection import train_test_split\n",
    "from sklearn.ensemble import RandomForestRegressor\n",
    "\n",
    "# Load dataset\n",
    "data = pd.read_csv(\"1651277648862_healthinsurance.csv\")\n",
    "\n",
    "# Handle missing values\n",
    "imputer = SimpleImputer(strategy='mean')\n",
    "data[['age', 'bmi']] = imputer.fit_transform(data[['age', 'bmi']])\n",
    "\n",
    "# Feature Encoding\n",
    "data['sex'] = data['sex'].map({'female': 0, 'male': 1})\n",
    "data['hereditary_diseases'] = data['hereditary_diseases'].map({\n",
    "    'NoDisease': 0, 'Epilepsy': 1, 'EyeDisease': 2, 'Alzheimer': 3, 'Arthritis': 4,\n",
    "    'HeartDisease': 5, 'Diabetes': 6, 'Cancer': 7, 'High BP': 8, 'Obesity': 9\n",
    "})\n",
    "\n",
    "label_encoder_city = LabelEncoder()\n",
    "label_encoder_job = LabelEncoder()\n",
    "data['city'] = label_encoder_city.fit_transform(data['city'])\n",
    "data['job_title'] = label_encoder_job.fit_transform(data['job_title'])\n",
    "\n",
    "# Define features & target\n",
    "X = data.drop(['claim'], axis=1)\n",
    "X.head()\n",
    "y = data['claim']\n",
    "\n",
    "# Split data\n",
    "X_train, X_test, y_train, y_test = train_test_split(X, y, test_size=0.2, random_state=42)\n",
    "\n",
    "# Train model\n",
    "model = RandomForestRegressor()\n",
    "model.fit(X_train, y_train)\n",
    "\n",
    "# Save the model & encoders\n",
    "joblib.dump(model, \"health_insurance_model.pkl\")\n",
    "joblib.dump(label_encoder_city, \"health_insurance_label_encoder_city.pkl\")\n",
    "joblib.dump(label_encoder_job, \"health_insurance_label_encoder_job.pkl\")\n",
    "\n",
    "print(\"Model saved successfully!\")"
   ]
  },
  {
   "cell_type": "code",
   "execution_count": 2,
   "id": "07234ded",
   "metadata": {},
   "outputs": [
    {
     "data": {
      "text/html": [
       "<div>\n",
       "<style scoped>\n",
       "    .dataframe tbody tr th:only-of-type {\n",
       "        vertical-align: middle;\n",
       "    }\n",
       "\n",
       "    .dataframe tbody tr th {\n",
       "        vertical-align: top;\n",
       "    }\n",
       "\n",
       "    .dataframe thead th {\n",
       "        text-align: right;\n",
       "    }\n",
       "</style>\n",
       "<table border=\"1\" class=\"dataframe\">\n",
       "  <thead>\n",
       "    <tr style=\"text-align: right;\">\n",
       "      <th></th>\n",
       "      <th>age</th>\n",
       "      <th>sex</th>\n",
       "      <th>weight</th>\n",
       "      <th>bmi</th>\n",
       "      <th>hereditary_diseases</th>\n",
       "      <th>no_of_dependents</th>\n",
       "      <th>smoker</th>\n",
       "      <th>city</th>\n",
       "      <th>bloodpressure</th>\n",
       "      <th>diabetes</th>\n",
       "      <th>regular_ex</th>\n",
       "      <th>job_title</th>\n",
       "    </tr>\n",
       "  </thead>\n",
       "  <tbody>\n",
       "    <tr>\n",
       "      <th>0</th>\n",
       "      <td>60.0</td>\n",
       "      <td>1</td>\n",
       "      <td>64</td>\n",
       "      <td>24.3</td>\n",
       "      <td>0</td>\n",
       "      <td>1</td>\n",
       "      <td>0</td>\n",
       "      <td>55</td>\n",
       "      <td>72</td>\n",
       "      <td>0</td>\n",
       "      <td>0</td>\n",
       "      <td>2</td>\n",
       "    </tr>\n",
       "    <tr>\n",
       "      <th>1</th>\n",
       "      <td>49.0</td>\n",
       "      <td>0</td>\n",
       "      <td>75</td>\n",
       "      <td>22.6</td>\n",
       "      <td>0</td>\n",
       "      <td>1</td>\n",
       "      <td>0</td>\n",
       "      <td>5</td>\n",
       "      <td>78</td>\n",
       "      <td>1</td>\n",
       "      <td>1</td>\n",
       "      <td>16</td>\n",
       "    </tr>\n",
       "    <tr>\n",
       "      <th>2</th>\n",
       "      <td>32.0</td>\n",
       "      <td>0</td>\n",
       "      <td>64</td>\n",
       "      <td>17.8</td>\n",
       "      <td>1</td>\n",
       "      <td>2</td>\n",
       "      <td>1</td>\n",
       "      <td>63</td>\n",
       "      <td>88</td>\n",
       "      <td>1</td>\n",
       "      <td>1</td>\n",
       "      <td>0</td>\n",
       "    </tr>\n",
       "    <tr>\n",
       "      <th>3</th>\n",
       "      <td>61.0</td>\n",
       "      <td>0</td>\n",
       "      <td>53</td>\n",
       "      <td>36.4</td>\n",
       "      <td>0</td>\n",
       "      <td>1</td>\n",
       "      <td>1</td>\n",
       "      <td>64</td>\n",
       "      <td>72</td>\n",
       "      <td>1</td>\n",
       "      <td>0</td>\n",
       "      <td>10</td>\n",
       "    </tr>\n",
       "    <tr>\n",
       "      <th>4</th>\n",
       "      <td>19.0</td>\n",
       "      <td>0</td>\n",
       "      <td>50</td>\n",
       "      <td>20.6</td>\n",
       "      <td>0</td>\n",
       "      <td>0</td>\n",
       "      <td>0</td>\n",
       "      <td>8</td>\n",
       "      <td>82</td>\n",
       "      <td>1</td>\n",
       "      <td>0</td>\n",
       "      <td>22</td>\n",
       "    </tr>\n",
       "    <tr>\n",
       "      <th>...</th>\n",
       "      <td>...</td>\n",
       "      <td>...</td>\n",
       "      <td>...</td>\n",
       "      <td>...</td>\n",
       "      <td>...</td>\n",
       "      <td>...</td>\n",
       "      <td>...</td>\n",
       "      <td>...</td>\n",
       "      <td>...</td>\n",
       "      <td>...</td>\n",
       "      <td>...</td>\n",
       "      <td>...</td>\n",
       "    </tr>\n",
       "    <tr>\n",
       "      <th>14995</th>\n",
       "      <td>39.0</td>\n",
       "      <td>1</td>\n",
       "      <td>49</td>\n",
       "      <td>28.3</td>\n",
       "      <td>0</td>\n",
       "      <td>1</td>\n",
       "      <td>1</td>\n",
       "      <td>24</td>\n",
       "      <td>54</td>\n",
       "      <td>1</td>\n",
       "      <td>0</td>\n",
       "      <td>20</td>\n",
       "    </tr>\n",
       "    <tr>\n",
       "      <th>14996</th>\n",
       "      <td>39.0</td>\n",
       "      <td>1</td>\n",
       "      <td>74</td>\n",
       "      <td>29.6</td>\n",
       "      <td>0</td>\n",
       "      <td>4</td>\n",
       "      <td>0</td>\n",
       "      <td>49</td>\n",
       "      <td>64</td>\n",
       "      <td>1</td>\n",
       "      <td>0</td>\n",
       "      <td>33</td>\n",
       "    </tr>\n",
       "    <tr>\n",
       "      <th>14997</th>\n",
       "      <td>20.0</td>\n",
       "      <td>1</td>\n",
       "      <td>62</td>\n",
       "      <td>33.3</td>\n",
       "      <td>0</td>\n",
       "      <td>0</td>\n",
       "      <td>0</td>\n",
       "      <td>82</td>\n",
       "      <td>52</td>\n",
       "      <td>1</td>\n",
       "      <td>0</td>\n",
       "      <td>18</td>\n",
       "    </tr>\n",
       "    <tr>\n",
       "      <th>14998</th>\n",
       "      <td>52.0</td>\n",
       "      <td>1</td>\n",
       "      <td>88</td>\n",
       "      <td>36.7</td>\n",
       "      <td>0</td>\n",
       "      <td>0</td>\n",
       "      <td>0</td>\n",
       "      <td>61</td>\n",
       "      <td>70</td>\n",
       "      <td>1</td>\n",
       "      <td>0</td>\n",
       "      <td>17</td>\n",
       "    </tr>\n",
       "    <tr>\n",
       "      <th>14999</th>\n",
       "      <td>52.0</td>\n",
       "      <td>1</td>\n",
       "      <td>57</td>\n",
       "      <td>26.4</td>\n",
       "      <td>0</td>\n",
       "      <td>3</td>\n",
       "      <td>0</td>\n",
       "      <td>37</td>\n",
       "      <td>72</td>\n",
       "      <td>1</td>\n",
       "      <td>0</td>\n",
       "      <td>28</td>\n",
       "    </tr>\n",
       "  </tbody>\n",
       "</table>\n",
       "<p>15000 rows × 12 columns</p>\n",
       "</div>"
      ],
      "text/plain": [
       "        age  sex  weight   bmi  hereditary_diseases  no_of_dependents  smoker   \n",
       "0      60.0    1      64  24.3                    0                 1       0  \\\n",
       "1      49.0    0      75  22.6                    0                 1       0   \n",
       "2      32.0    0      64  17.8                    1                 2       1   \n",
       "3      61.0    0      53  36.4                    0                 1       1   \n",
       "4      19.0    0      50  20.6                    0                 0       0   \n",
       "...     ...  ...     ...   ...                  ...               ...     ...   \n",
       "14995  39.0    1      49  28.3                    0                 1       1   \n",
       "14996  39.0    1      74  29.6                    0                 4       0   \n",
       "14997  20.0    1      62  33.3                    0                 0       0   \n",
       "14998  52.0    1      88  36.7                    0                 0       0   \n",
       "14999  52.0    1      57  26.4                    0                 3       0   \n",
       "\n",
       "       city  bloodpressure  diabetes  regular_ex  job_title  \n",
       "0        55             72         0           0          2  \n",
       "1         5             78         1           1         16  \n",
       "2        63             88         1           1          0  \n",
       "3        64             72         1           0         10  \n",
       "4         8             82         1           0         22  \n",
       "...     ...            ...       ...         ...        ...  \n",
       "14995    24             54         1           0         20  \n",
       "14996    49             64         1           0         33  \n",
       "14997    82             52         1           0         18  \n",
       "14998    61             70         1           0         17  \n",
       "14999    37             72         1           0         28  \n",
       "\n",
       "[15000 rows x 12 columns]"
      ]
     },
     "execution_count": 2,
     "metadata": {},
     "output_type": "execute_result"
    }
   ],
   "source": [
    "X"
   ]
  },
  {
   "cell_type": "code",
   "execution_count": 51,
   "id": "0a08bc56",
   "metadata": {},
   "outputs": [
    {
     "name": "stdout",
     "output_type": "stream",
     "text": [
      "Predicted Insurance Claim Amount: 7235.36\n"
     ]
    }
   ],
   "source": [
    "# Function to take input and predict\n",
    "def predict_insurance_claim():\n",
    "    # Load saved model\n",
    "    model = joblib.load(\"health_insurance_model.pkl\")\n",
    "    label_encoder_city = joblib.load(\"health_insurance_label_encoder_city.pkl\")\n",
    "    label_encoder_job = joblib.load(\"health_insurance_label_encoder_job.pkl\")\n",
    "\n",
    "    # Take user input\n",
    "    age = 23\n",
    "    sex = 0\n",
    "    weight = 55\n",
    "    bmi = 24.3\n",
    "    hereditary_diseases = 0\n",
    "    no_of_dependents = 1\n",
    "    smoker = 0\n",
    "    city = \"NewYork\"\n",
    "    bloodpressure = 72\n",
    "    diabetes = 0\n",
    "    regular_ex = 0\n",
    "    job_title = \"DataScientist\"\n",
    "\n",
    "    # Encode categorical inputs\n",
    "    city_encoded = label_encoder_city.transform([city])[0]\n",
    "    job_title_encoded = label_encoder_job.transform([job_title])[0]\n",
    "\n",
    "    # Create input DataFrame\n",
    "    input_data = pd.DataFrame([[\n",
    "        age, sex, weight, bmi, hereditary_diseases, no_of_dependents, smoker,\n",
    "        city_encoded, bloodpressure, diabetes, regular_ex, job_title_encoded\n",
    "    ]], columns=X.columns)\n",
    "\n",
    "    # Predict\n",
    "    prediction = model.predict(input_data)[0]\n",
    "    print(f\"Predicted Insurance Claim Amount: {prediction:.2f}\")\n",
    "\n",
    "# Run the prediction function\n",
    "predict_insurance_claim()\n",
    "\n"
   ]
  }
 ],
 "metadata": {
  "kernelspec": {
   "display_name": "Python 3",
   "language": "python",
   "name": "python3"
  },
  "language_info": {
   "codemirror_mode": {
    "name": "ipython",
    "version": 3
   },
   "file_extension": ".py",
   "mimetype": "text/x-python",
   "name": "python",
   "nbconvert_exporter": "python",
   "pygments_lexer": "ipython3",
   "version": "3.11.4"
  },
  "papermill": {
   "default_parameters": {},
   "duration": 29.186236,
   "end_time": "2023-10-31T02:06:09.430307",
   "environment_variables": {},
   "exception": null,
   "input_path": "__notebook__.ipynb",
   "output_path": "__notebook__.ipynb",
   "parameters": {},
   "start_time": "2023-10-31T02:05:40.244071",
   "version": "2.4.0"
  }
 },
 "nbformat": 4,
 "nbformat_minor": 5
}
