{
 "cells": [
  {
   "cell_type": "code",
   "execution_count": 1,
   "id": "3848ec5e",
   "metadata": {
    "_cell_guid": "b1076dfc-b9ad-4769-8c92-a6c4dae69d19",
    "_uuid": "8f2839f25d086af736a60e9eeb907d3b93b6e0e5",
    "execution": {
     "iopub.execute_input": "2023-09-12T17:00:44.320563Z",
     "iopub.status.busy": "2023-09-12T17:00:44.320120Z",
     "iopub.status.idle": "2023-09-12T17:00:46.944174Z",
     "shell.execute_reply": "2023-09-12T17:00:46.943028Z"
    },
    "papermill": {
     "duration": 2.639131,
     "end_time": "2023-09-12T17:00:46.947201",
     "exception": false,
     "start_time": "2023-09-12T17:00:44.308070",
     "status": "completed"
    },
    "tags": []
   },
   "outputs": [],
   "source": [
    "\n",
    "import numpy as np # linear algebra\n",
    "import pandas as pd # data processing, CSV file I/O (e.g. pd.read_csv)\n",
    "\n",
    "# For Warnings \n",
    "import warnings \n",
    "warnings.filterwarnings('ignore')\n",
    "\n",
    "# For Options \n",
    "pd.set_option('display.max_rows' , None)\n",
    "pd.set_option('display.max_columns' , None)\n",
    "\n",
    "# For Data Viz. \n",
    "import matplotlib.pyplot as plt \n",
    "import seaborn as sns \n",
    "\n",
    "# For Preprocessing. \n",
    "from sklearn.preprocessing import StandardScaler\n",
    "from sklearn.preprocessing import OrdinalEncoder \n",
    "\n",
    "# For Pipeline and ColumnTransformer. \n",
    "from sklearn.compose import ColumnTransformer \n",
    "from sklearn.pipeline import Pipeline \n",
    "\n",
    "# For ML Models. {Classification}\n",
    "from sklearn.linear_model import LogisticRegression\n",
    "from sklearn.linear_model import SGDClassifier \n",
    "from sklearn.tree import DecisionTreeClassifier \n",
    "from sklearn.ensemble import RandomForestClassifier \n",
    "from sklearn.svm import SVC \n",
    "\n",
    "# Sklearn - Metrics \n",
    "from sklearn.metrics import accuracy_score , confusion_matrix , classification_report \n",
    "\n",
    "import os\n",
    "for dirname, _, filenames in os.walk('/kaggle/input'):\n",
    "    for filename in filenames:\n",
    "        print(os.path.join(dirname, filename))\n",
    "\n"
   ]
  },
  {
   "cell_type": "markdown",
   "id": "a17a0e53",
   "metadata": {
    "papermill": {
     "duration": 0.012138,
     "end_time": "2023-09-12T17:00:46.969182",
     "exception": false,
     "start_time": "2023-09-12T17:00:46.957044",
     "status": "completed"
    },
    "tags": []
   },
   "source": [
    "#### a credit score of 700 or above is generally considered good."
   ]
  },
  {
   "cell_type": "code",
   "execution_count": 2,
   "id": "0ce54562",
   "metadata": {
    "execution": {
     "iopub.execute_input": "2023-09-12T17:00:46.990517Z",
     "iopub.status.busy": "2023-09-12T17:00:46.989955Z",
     "iopub.status.idle": "2023-09-12T17:00:48.095201Z",
     "shell.execute_reply": "2023-09-12T17:00:48.093930Z"
    },
    "papermill": {
     "duration": 1.118906,
     "end_time": "2023-09-12T17:00:48.097970",
     "exception": false,
     "start_time": "2023-09-12T17:00:46.979064",
     "status": "completed"
    },
    "tags": []
   },
   "outputs": [
    {
     "data": {
      "text/html": [
       "<div>\n",
       "<style scoped>\n",
       "    .dataframe tbody tr th:only-of-type {\n",
       "        vertical-align: middle;\n",
       "    }\n",
       "\n",
       "    .dataframe tbody tr th {\n",
       "        vertical-align: top;\n",
       "    }\n",
       "\n",
       "    .dataframe thead th {\n",
       "        text-align: right;\n",
       "    }\n",
       "</style>\n",
       "<table border=\"1\" class=\"dataframe\">\n",
       "  <thead>\n",
       "    <tr style=\"text-align: right;\">\n",
       "      <th></th>\n",
       "      <th>Age</th>\n",
       "      <th>Gender</th>\n",
       "      <th>Income</th>\n",
       "      <th>Credit Score</th>\n",
       "      <th>Credit History Length</th>\n",
       "      <th>Number of Existing Loans</th>\n",
       "      <th>Loan Amount</th>\n",
       "      <th>Loan Tenure</th>\n",
       "      <th>Existing Customer</th>\n",
       "      <th>State</th>\n",
       "      <th>City</th>\n",
       "      <th>LTV Ratio</th>\n",
       "      <th>Employment Profile</th>\n",
       "      <th>Profile Score</th>\n",
       "      <th>Occupation</th>\n",
       "    </tr>\n",
       "  </thead>\n",
       "  <tbody>\n",
       "    <tr>\n",
       "      <th>0</th>\n",
       "      <td>31</td>\n",
       "      <td>Male</td>\n",
       "      <td>36000</td>\n",
       "      <td>604</td>\n",
       "      <td>487</td>\n",
       "      <td>5</td>\n",
       "      <td>109373</td>\n",
       "      <td>221</td>\n",
       "      <td>No</td>\n",
       "      <td>Karnataka</td>\n",
       "      <td>Mysuru</td>\n",
       "      <td>90.943430</td>\n",
       "      <td>Salaried</td>\n",
       "      <td>77</td>\n",
       "      <td>Doctor</td>\n",
       "    </tr>\n",
       "    <tr>\n",
       "      <th>1</th>\n",
       "      <td>25</td>\n",
       "      <td>Male</td>\n",
       "      <td>50000</td>\n",
       "      <td>447</td>\n",
       "      <td>386</td>\n",
       "      <td>2</td>\n",
       "      <td>150000</td>\n",
       "      <td>89</td>\n",
       "      <td>No</td>\n",
       "      <td>Karnataka</td>\n",
       "      <td>Bengaluru</td>\n",
       "      <td>91.135253</td>\n",
       "      <td>Salaried</td>\n",
       "      <td>43</td>\n",
       "      <td>Software Engineer</td>\n",
       "    </tr>\n",
       "    <tr>\n",
       "      <th>2</th>\n",
       "      <td>62</td>\n",
       "      <td>Other</td>\n",
       "      <td>178000</td>\n",
       "      <td>850</td>\n",
       "      <td>503</td>\n",
       "      <td>10</td>\n",
       "      <td>69099</td>\n",
       "      <td>110</td>\n",
       "      <td>Yes</td>\n",
       "      <td>Uttar Pradesh</td>\n",
       "      <td>Kanpur</td>\n",
       "      <td>40.000000</td>\n",
       "      <td>Salaried</td>\n",
       "      <td>90</td>\n",
       "      <td>Banker</td>\n",
       "    </tr>\n",
       "    <tr>\n",
       "      <th>3</th>\n",
       "      <td>69</td>\n",
       "      <td>Female</td>\n",
       "      <td>46000</td>\n",
       "      <td>668</td>\n",
       "      <td>349</td>\n",
       "      <td>6</td>\n",
       "      <td>150000</td>\n",
       "      <td>148</td>\n",
       "      <td>Yes</td>\n",
       "      <td>Karnataka</td>\n",
       "      <td>Bengaluru</td>\n",
       "      <td>87.393365</td>\n",
       "      <td>Self-Employed</td>\n",
       "      <td>86</td>\n",
       "      <td>Contractor</td>\n",
       "    </tr>\n",
       "    <tr>\n",
       "      <th>4</th>\n",
       "      <td>52</td>\n",
       "      <td>Male</td>\n",
       "      <td>132000</td>\n",
       "      <td>601</td>\n",
       "      <td>553</td>\n",
       "      <td>5</td>\n",
       "      <td>150000</td>\n",
       "      <td>157</td>\n",
       "      <td>No</td>\n",
       "      <td>Karnataka</td>\n",
       "      <td>Mysuru</td>\n",
       "      <td>66.158757</td>\n",
       "      <td>Salaried</td>\n",
       "      <td>90</td>\n",
       "      <td>Teacher</td>\n",
       "    </tr>\n",
       "  </tbody>\n",
       "</table>\n",
       "</div>"
      ],
      "text/plain": [
       "   Age  Gender  Income  Credit Score  Credit History Length   \n",
       "0   31    Male   36000           604                    487  \\\n",
       "1   25    Male   50000           447                    386   \n",
       "2   62   Other  178000           850                    503   \n",
       "3   69  Female   46000           668                    349   \n",
       "4   52    Male  132000           601                    553   \n",
       "\n",
       "   Number of Existing Loans  Loan Amount  Loan Tenure Existing Customer   \n",
       "0                         5       109373          221                No  \\\n",
       "1                         2       150000           89                No   \n",
       "2                        10        69099          110               Yes   \n",
       "3                         6       150000          148               Yes   \n",
       "4                         5       150000          157                No   \n",
       "\n",
       "           State       City  LTV Ratio Employment Profile  Profile Score   \n",
       "0      Karnataka     Mysuru  90.943430           Salaried             77  \\\n",
       "1      Karnataka  Bengaluru  91.135253           Salaried             43   \n",
       "2  Uttar Pradesh     Kanpur  40.000000           Salaried             90   \n",
       "3      Karnataka  Bengaluru  87.393365      Self-Employed             86   \n",
       "4      Karnataka     Mysuru  66.158757           Salaried             90   \n",
       "\n",
       "          Occupation  \n",
       "0             Doctor  \n",
       "1  Software Engineer  \n",
       "2             Banker  \n",
       "3         Contractor  \n",
       "4            Teacher  "
      ]
     },
     "execution_count": 2,
     "metadata": {},
     "output_type": "execute_result"
    }
   ],
   "source": [
    "# let's import dataset first. \n",
    "\n",
    "df = pd.read_csv('credit_data.csv')\n",
    "df.head()"
   ]
  },
  {
   "cell_type": "code",
   "execution_count": 3,
   "id": "fefb066a",
   "metadata": {
    "execution": {
     "iopub.execute_input": "2023-09-12T17:00:48.120185Z",
     "iopub.status.busy": "2023-09-12T17:00:48.119772Z",
     "iopub.status.idle": "2023-09-12T17:00:48.136913Z",
     "shell.execute_reply": "2023-09-12T17:00:48.135666Z"
    },
    "papermill": {
     "duration": 0.031656,
     "end_time": "2023-09-12T17:00:48.139810",
     "exception": false,
     "start_time": "2023-09-12T17:00:48.108154",
     "status": "completed"
    },
    "tags": []
   },
   "outputs": [],
   "source": [
    "df1 = df.copy()"
   ]
  },
  {
   "cell_type": "code",
   "execution_count": 4,
   "id": "38455b69",
   "metadata": {
    "execution": {
     "iopub.execute_input": "2023-09-12T17:00:48.161786Z",
     "iopub.status.busy": "2023-09-12T17:00:48.161389Z",
     "iopub.status.idle": "2023-09-12T17:00:48.193100Z",
     "shell.execute_reply": "2023-09-12T17:00:48.191956Z"
    },
    "papermill": {
     "duration": 0.046292,
     "end_time": "2023-09-12T17:00:48.196188",
     "exception": false,
     "start_time": "2023-09-12T17:00:48.149896",
     "status": "completed"
    },
    "tags": []
   },
   "outputs": [],
   "source": [
    "df1 = df1.drop(['City' , 'State' , 'Occupation'] , axis = 1)"
   ]
  },
  {
   "cell_type": "code",
   "execution_count": 5,
   "id": "8db0fdd6",
   "metadata": {
    "execution": {
     "iopub.execute_input": "2023-09-12T17:00:48.218590Z",
     "iopub.status.busy": "2023-09-12T17:00:48.218122Z",
     "iopub.status.idle": "2023-09-12T17:00:48.306799Z",
     "shell.execute_reply": "2023-09-12T17:00:48.305594Z"
    },
    "papermill": {
     "duration": 0.103051,
     "end_time": "2023-09-12T17:00:48.309660",
     "exception": false,
     "start_time": "2023-09-12T17:00:48.206609",
     "status": "completed"
    },
    "tags": []
   },
   "outputs": [],
   "source": [
    "# Credit Score Converter. \n",
    "\n",
    "credit_class = []\n",
    "def credit_score_func(df , credit) : \n",
    "\n",
    "    for i in df[credit] : \n",
    "        if i > 800 :\n",
    "            credit_class.append(1)\n",
    "        else : \n",
    "            credit_class.append(0)\n",
    "\n",
    "credit_score_func(df1 , 'Credit Score')\n",
    "            "
   ]
  },
  {
   "cell_type": "code",
   "execution_count": 6,
   "id": "b4b3316a",
   "metadata": {
    "execution": {
     "iopub.execute_input": "2023-09-12T17:00:48.331931Z",
     "iopub.status.busy": "2023-09-12T17:00:48.331544Z",
     "iopub.status.idle": "2023-09-12T17:00:48.475765Z",
     "shell.execute_reply": "2023-09-12T17:00:48.474821Z"
    },
    "papermill": {
     "duration": 0.158428,
     "end_time": "2023-09-12T17:00:48.478376",
     "exception": false,
     "start_time": "2023-09-12T17:00:48.319948",
     "status": "completed"
    },
    "tags": []
   },
   "outputs": [],
   "source": [
    "df1['Credit Score Class'] = pd.DataFrame(credit_class)"
   ]
  },
  {
   "cell_type": "code",
   "execution_count": 7,
   "id": "bc656540",
   "metadata": {
    "execution": {
     "iopub.execute_input": "2023-09-12T17:00:48.500894Z",
     "iopub.status.busy": "2023-09-12T17:00:48.499988Z",
     "iopub.status.idle": "2023-09-12T17:00:48.517693Z",
     "shell.execute_reply": "2023-09-12T17:00:48.516540Z"
    },
    "papermill": {
     "duration": 0.03208,
     "end_time": "2023-09-12T17:00:48.520569",
     "exception": false,
     "start_time": "2023-09-12T17:00:48.488489",
     "status": "completed"
    },
    "tags": []
   },
   "outputs": [],
   "source": [
    "features = df1.drop('Credit Score Class' , axis = 1)\n",
    "label = df1['Credit Score Class']"
   ]
  },
  {
   "cell_type": "code",
   "execution_count": 8,
   "id": "40928170",
   "metadata": {
    "execution": {
     "iopub.execute_input": "2023-09-12T17:00:48.543025Z",
     "iopub.status.busy": "2023-09-12T17:00:48.542365Z",
     "iopub.status.idle": "2023-09-12T17:00:48.576204Z",
     "shell.execute_reply": "2023-09-12T17:00:48.575005Z"
    },
    "papermill": {
     "duration": 0.048083,
     "end_time": "2023-09-12T17:00:48.578866",
     "exception": false,
     "start_time": "2023-09-12T17:00:48.530783",
     "status": "completed"
    },
    "tags": []
   },
   "outputs": [
    {
     "name": "stdout",
     "output_type": "stream",
     "text": [
      "Categorical columns: Index(['Gender', 'Existing Customer', 'Employment Profile'], dtype='object') \n",
      "Numerical columns: Index(['Age', 'Income', 'Credit Score', 'Credit History Length',\n",
      "       'Number of Existing Loans', 'Loan Amount', 'Loan Tenure', 'LTV Ratio',\n",
      "       'Profile Score'],\n",
      "      dtype='object')\n"
     ]
    }
   ],
   "source": [
    "# Get Seperate cat_cols and num_cols \n",
    "\n",
    "def cat_num_func(df) : \n",
    "    \n",
    "    cat_col = df.select_dtypes(include = 'object').columns\n",
    "    num_col = df.select_dtypes(exclude = 'object').columns \n",
    "    \n",
    "    return cat_col , num_col \n",
    "\n",
    "cat_col , num_col = cat_num_func(features)\n",
    "\n",
    "print(f\"Categorical columns: {cat_col} \\nNumerical columns: {num_col}\")"
   ]
  },
  {
   "cell_type": "code",
   "execution_count": 9,
   "id": "6dfb5009",
   "metadata": {
    "execution": {
     "iopub.execute_input": "2023-09-12T17:00:48.601243Z",
     "iopub.status.busy": "2023-09-12T17:00:48.600830Z",
     "iopub.status.idle": "2023-09-12T17:00:48.703036Z",
     "shell.execute_reply": "2023-09-12T17:00:48.701822Z"
    },
    "papermill": {
     "duration": 0.116734,
     "end_time": "2023-09-12T17:00:48.705910",
     "exception": false,
     "start_time": "2023-09-12T17:00:48.589176",
     "status": "completed"
    },
    "tags": []
   },
   "outputs": [
    {
     "name": "stdout",
     "output_type": "stream",
     "text": [
      "Gender : 0\n",
      "Existing Customer : 0\n",
      "Employment Profile : 0\n"
     ]
    }
   ],
   "source": [
    "# Missing vals in cat_col ? \n",
    "\n",
    "def missing_func(df , col) : \n",
    "    \n",
    "    for i in df[col] : \n",
    "        print(f\"{i} : {df[i].isnull().sum()}\")\n",
    "        \n",
    "missing_func(features , cat_col)"
   ]
  },
  {
   "cell_type": "code",
   "execution_count": 10,
   "id": "d6267fc7",
   "metadata": {
    "execution": {
     "iopub.execute_input": "2023-09-12T17:00:48.728869Z",
     "iopub.status.busy": "2023-09-12T17:00:48.728459Z",
     "iopub.status.idle": "2023-09-12T17:00:48.745658Z",
     "shell.execute_reply": "2023-09-12T17:00:48.744601Z"
    },
    "papermill": {
     "duration": 0.031987,
     "end_time": "2023-09-12T17:00:48.748326",
     "exception": false,
     "start_time": "2023-09-12T17:00:48.716339",
     "status": "completed"
    },
    "tags": []
   },
   "outputs": [
    {
     "name": "stdout",
     "output_type": "stream",
     "text": [
      "Age : 0\n",
      "Income : 0\n",
      "Credit Score : 0\n",
      "Credit History Length : 0\n",
      "Number of Existing Loans : 0\n",
      "Loan Amount : 0\n",
      "Loan Tenure : 0\n",
      "LTV Ratio : 0\n",
      "Profile Score : 0\n"
     ]
    }
   ],
   "source": [
    "# Missing vals in num_col ?\n",
    "\n",
    "missing_func(features , num_col)\n"
   ]
  },
  {
   "cell_type": "code",
   "execution_count": 11,
   "id": "3d267246",
   "metadata": {
    "execution": {
     "iopub.execute_input": "2023-09-12T17:00:48.770749Z",
     "iopub.status.busy": "2023-09-12T17:00:48.770301Z",
     "iopub.status.idle": "2023-09-12T17:00:48.865011Z",
     "shell.execute_reply": "2023-09-12T17:00:48.863788Z"
    },
    "papermill": {
     "duration": 0.109852,
     "end_time": "2023-09-12T17:00:48.868517",
     "exception": false,
     "start_time": "2023-09-12T17:00:48.758665",
     "status": "completed"
    },
    "tags": []
   },
   "outputs": [
    {
     "name": "stdout",
     "output_type": "stream",
     "text": [
      "Gender : ['Male' 'Other' 'Female']\n",
      "Existing Customer : ['No' 'Yes']\n",
      "Employment Profile : ['Salaried' 'Self-Employed' 'Freelancer' 'Student' 'Unemployed']\n"
     ]
    }
   ],
   "source": [
    "# unique values of cat_cols. \n",
    "\n",
    "def unique_vals_func(df , cat_col) : \n",
    "    \n",
    "    for i in df[cat_col] : \n",
    "        print(f\"{i} : {df[i].unique()}\")\n",
    "\n",
    "unique_vals_func(features , cat_col)"
   ]
  },
  {
   "cell_type": "code",
   "execution_count": 12,
   "id": "87821339",
   "metadata": {
    "execution": {
     "iopub.execute_input": "2023-09-12T17:00:48.892125Z",
     "iopub.status.busy": "2023-09-12T17:00:48.891719Z",
     "iopub.status.idle": "2023-09-12T17:00:48.898090Z",
     "shell.execute_reply": "2023-09-12T17:00:48.896978Z"
    },
    "papermill": {
     "duration": 0.02071,
     "end_time": "2023-09-12T17:00:48.900412",
     "exception": false,
     "start_time": "2023-09-12T17:00:48.879702",
     "status": "completed"
    },
    "tags": []
   },
   "outputs": [],
   "source": [
    "numerical_transformer = Pipeline(\n",
    "    steps = [\n",
    "        ('stand_scaler' , StandardScaler())\n",
    "    ]\n",
    ")\n",
    "\n",
    "categorical_transformer = Pipeline(\n",
    "    steps = [\n",
    "        ('ord_encoder' , OrdinalEncoder())\n",
    "    ]\n",
    ")\n",
    "\n",
    "ct = ColumnTransformer(\n",
    "    transformers = [\n",
    "        ('num_col_transformer' , numerical_transformer , num_col ) , \n",
    "        ('cat_col_transformer' , categorical_transformer , cat_col)] , remainder = 'passthrough')"
   ]
  },
  {
   "cell_type": "code",
   "execution_count": 13,
   "id": "27d90c90",
   "metadata": {
    "execution": {
     "iopub.execute_input": "2023-09-12T17:00:48.923104Z",
     "iopub.status.busy": "2023-09-12T17:00:48.922664Z",
     "iopub.status.idle": "2023-09-12T17:00:48.938025Z",
     "shell.execute_reply": "2023-09-12T17:00:48.936650Z"
    },
    "papermill": {
     "duration": 0.029596,
     "end_time": "2023-09-12T17:00:48.940417",
     "exception": false,
     "start_time": "2023-09-12T17:00:48.910821",
     "status": "completed"
    },
    "tags": []
   },
   "outputs": [
    {
     "data": {
      "text/html": [
       "<div>\n",
       "<style scoped>\n",
       "    .dataframe tbody tr th:only-of-type {\n",
       "        vertical-align: middle;\n",
       "    }\n",
       "\n",
       "    .dataframe tbody tr th {\n",
       "        vertical-align: top;\n",
       "    }\n",
       "\n",
       "    .dataframe thead th {\n",
       "        text-align: right;\n",
       "    }\n",
       "</style>\n",
       "<table border=\"1\" class=\"dataframe\">\n",
       "  <thead>\n",
       "    <tr style=\"text-align: right;\">\n",
       "      <th></th>\n",
       "      <th>Age</th>\n",
       "      <th>Gender</th>\n",
       "      <th>Income</th>\n",
       "      <th>Credit Score</th>\n",
       "      <th>Credit History Length</th>\n",
       "      <th>Number of Existing Loans</th>\n",
       "      <th>Loan Amount</th>\n",
       "      <th>Loan Tenure</th>\n",
       "      <th>Existing Customer</th>\n",
       "      <th>LTV Ratio</th>\n",
       "      <th>Employment Profile</th>\n",
       "      <th>Profile Score</th>\n",
       "    </tr>\n",
       "  </thead>\n",
       "  <tbody>\n",
       "    <tr>\n",
       "      <th>0</th>\n",
       "      <td>31</td>\n",
       "      <td>Male</td>\n",
       "      <td>36000</td>\n",
       "      <td>604</td>\n",
       "      <td>487</td>\n",
       "      <td>5</td>\n",
       "      <td>109373</td>\n",
       "      <td>221</td>\n",
       "      <td>No</td>\n",
       "      <td>90.94343</td>\n",
       "      <td>Salaried</td>\n",
       "      <td>77</td>\n",
       "    </tr>\n",
       "  </tbody>\n",
       "</table>\n",
       "</div>"
      ],
      "text/plain": [
       "   Age Gender  Income  Credit Score  Credit History Length   \n",
       "0   31   Male   36000           604                    487  \\\n",
       "\n",
       "   Number of Existing Loans  Loan Amount  Loan Tenure Existing Customer   \n",
       "0                         5       109373          221                No  \\\n",
       "\n",
       "   LTV Ratio Employment Profile  Profile Score  \n",
       "0   90.94343           Salaried             77  "
      ]
     },
     "execution_count": 13,
     "metadata": {},
     "output_type": "execute_result"
    }
   ],
   "source": [
    "features.head(1)"
   ]
  },
  {
   "cell_type": "code",
   "execution_count": 14,
   "id": "271d67eb",
   "metadata": {
    "execution": {
     "iopub.execute_input": "2023-09-12T17:00:48.964823Z",
     "iopub.status.busy": "2023-09-12T17:00:48.963967Z",
     "iopub.status.idle": "2023-09-12T17:00:48.973373Z",
     "shell.execute_reply": "2023-09-12T17:00:48.971892Z"
    },
    "papermill": {
     "duration": 0.024783,
     "end_time": "2023-09-12T17:00:48.976294",
     "exception": false,
     "start_time": "2023-09-12T17:00:48.951511",
     "status": "completed"
    },
    "tags": []
   },
   "outputs": [
    {
     "data": {
      "text/plain": [
       "0    0\n",
       "Name: Credit Score Class, dtype: int64"
      ]
     },
     "execution_count": 14,
     "metadata": {},
     "output_type": "execute_result"
    }
   ],
   "source": [
    "label[:1]"
   ]
  },
  {
   "cell_type": "code",
   "execution_count": 15,
   "id": "ce5b310f",
   "metadata": {
    "execution": {
     "iopub.execute_input": "2023-09-12T17:00:48.999875Z",
     "iopub.status.busy": "2023-09-12T17:00:48.999495Z",
     "iopub.status.idle": "2023-09-12T17:00:49.426291Z",
     "shell.execute_reply": "2023-09-12T17:00:49.425121Z"
    },
    "papermill": {
     "duration": 0.442126,
     "end_time": "2023-09-12T17:00:49.429331",
     "exception": false,
     "start_time": "2023-09-12T17:00:48.987205",
     "status": "completed"
    },
    "tags": []
   },
   "outputs": [],
   "source": [
    "features = ct.fit_transform(features)"
   ]
  },
  {
   "cell_type": "code",
   "execution_count": 16,
   "id": "07805112",
   "metadata": {
    "execution": {
     "iopub.execute_input": "2023-09-12T17:00:49.454860Z",
     "iopub.status.busy": "2023-09-12T17:00:49.454453Z",
     "iopub.status.idle": "2023-09-12T17:00:49.619921Z",
     "shell.execute_reply": "2023-09-12T17:00:49.618471Z"
    },
    "papermill": {
     "duration": 0.181301,
     "end_time": "2023-09-12T17:00:49.622325",
     "exception": false,
     "start_time": "2023-09-12T17:00:49.441024",
     "status": "completed"
    },
    "tags": []
   },
   "outputs": [
    {
     "name": "stdout",
     "output_type": "stream",
     "text": [
      "x train shape: (209892, 12)\n",
      "y train shape : (209892,)\n",
      "x test shape : (69964, 12)\n",
      "y test shape : (69964,)\n"
     ]
    }
   ],
   "source": [
    "from sklearn.model_selection import train_test_split \n",
    "\n",
    "x_train , x_test , y_train , y_test = train_test_split(features , label , stratify = label , random_state = 42)\n",
    "\n",
    "print(f\"x train shape: {x_train.shape}\\ny train shape : {y_train.shape}\\nx test shape : {x_test.shape}\\ny test shape : {y_test.shape}\")"
   ]
  },
  {
   "cell_type": "code",
   "execution_count": 17,
   "id": "bde0d6fa",
   "metadata": {
    "execution": {
     "iopub.execute_input": "2023-09-12T17:00:49.645965Z",
     "iopub.status.busy": "2023-09-12T17:00:49.645510Z",
     "iopub.status.idle": "2023-09-12T17:00:51.382888Z",
     "shell.execute_reply": "2023-09-12T17:00:51.381720Z"
    },
    "papermill": {
     "duration": 1.754183,
     "end_time": "2023-09-12T17:00:51.387305",
     "exception": false,
     "start_time": "2023-09-12T17:00:49.633122",
     "status": "completed"
    },
    "tags": []
   },
   "outputs": [
    {
     "data": {
      "text/plain": [
       "0.9989994854496598"
      ]
     },
     "execution_count": 17,
     "metadata": {},
     "output_type": "execute_result"
    }
   ],
   "source": [
    "lr_model = LogisticRegression()\n",
    "\n",
    "lr_model.fit(x_train , y_train)\n",
    "\n",
    "lr_model.score(x_train , y_train)"
   ]
  },
  {
   "cell_type": "code",
   "execution_count": 18,
   "id": "af2e89f6",
   "metadata": {
    "execution": {
     "iopub.execute_input": "2023-09-12T17:00:51.438540Z",
     "iopub.status.busy": "2023-09-12T17:00:51.436561Z",
     "iopub.status.idle": "2023-09-12T17:00:51.452910Z",
     "shell.execute_reply": "2023-09-12T17:00:51.451219Z"
    },
    "papermill": {
     "duration": 0.047889,
     "end_time": "2023-09-12T17:00:51.458629",
     "exception": false,
     "start_time": "2023-09-12T17:00:51.410740",
     "status": "completed"
    },
    "tags": []
   },
   "outputs": [],
   "source": [
    "y_pred_lr = lr_model.predict(x_test)"
   ]
  },
  {
   "cell_type": "code",
   "execution_count": 19,
   "id": "81d72587",
   "metadata": {
    "execution": {
     "iopub.execute_input": "2023-09-12T17:00:51.538494Z",
     "iopub.status.busy": "2023-09-12T17:00:51.533144Z",
     "iopub.status.idle": "2023-09-12T17:00:51.567839Z",
     "shell.execute_reply": "2023-09-12T17:00:51.566838Z"
    },
    "papermill": {
     "duration": 0.088472,
     "end_time": "2023-09-12T17:00:51.570275",
     "exception": false,
     "start_time": "2023-09-12T17:00:51.481803",
     "status": "completed"
    },
    "tags": []
   },
   "outputs": [
    {
     "name": "stdout",
     "output_type": "stream",
     "text": [
      "0.9990995369046939\n"
     ]
    }
   ],
   "source": [
    "acc = accuracy_score(y_test , y_pred_lr)\n",
    "print(acc)"
   ]
  },
  {
   "cell_type": "code",
   "execution_count": 20,
   "id": "b1054dea",
   "metadata": {
    "execution": {
     "iopub.execute_input": "2023-09-12T17:00:51.598316Z",
     "iopub.status.busy": "2023-09-12T17:00:51.596997Z",
     "iopub.status.idle": "2023-09-12T17:00:51.933978Z",
     "shell.execute_reply": "2023-09-12T17:00:51.932732Z"
    },
    "papermill": {
     "duration": 0.353651,
     "end_time": "2023-09-12T17:00:51.936745",
     "exception": false,
     "start_time": "2023-09-12T17:00:51.583094",
     "status": "completed"
    },
    "tags": []
   },
   "outputs": [
    {
     "data": {
      "image/png": "[encoded data removed]",
      "text/plain": [
       "<Figure size 640x480 with 2 Axes>"
      ]
     },
     "metadata": {},
     "output_type": "display_data"
    }
   ],
   "source": [
    "cm = confusion_matrix(y_test , y_pred_lr)\n",
    "sns.heatmap(cm , annot = True , linewidth = 1)\n",
    "plt.xlabel('Predicted Values')\n",
    "plt.ylabel('Actual Values')\n",
    "plt.show()"
   ]
  },
  {
   "cell_type": "code",
   "execution_count": 21,
   "id": "c5078b98",
   "metadata": {
    "execution": {
     "iopub.execute_input": "2023-09-12T17:00:51.962346Z",
     "iopub.status.busy": "2023-09-12T17:00:51.961884Z",
     "iopub.status.idle": "2023-09-12T17:00:52.079910Z",
     "shell.execute_reply": "2023-09-12T17:00:52.078465Z"
    },
    "papermill": {
     "duration": 0.134197,
     "end_time": "2023-09-12T17:00:52.082667",
     "exception": false,
     "start_time": "2023-09-12T17:00:51.948470",
     "status": "completed"
    },
    "tags": []
   },
   "outputs": [
    {
     "name": "stdout",
     "output_type": "stream",
     "text": [
      "              precision    recall  f1-score   support\n",
      "\n",
      "           0       1.00      1.00      1.00     62515\n",
      "           1       0.99      1.00      1.00      7449\n",
      "\n",
      "    accuracy                           1.00     69964\n",
      "   macro avg       1.00      1.00      1.00     69964\n",
      "weighted avg       1.00      1.00      1.00     69964\n",
      "\n"
     ]
    }
   ],
   "source": [
    "print(classification_report(y_test , y_pred_lr))"
   ]
  },
  {
   "cell_type": "code",
   "execution_count": 25,
   "id": "a91c8cd7",
   "metadata": {},
   "outputs": [
    {
     "data": {
      "text/plain": [
       "['vehicle_transformer.pkl']"
      ]
     },
     "execution_count": 25,
     "metadata": {},
     "output_type": "execute_result"
    }
   ],
   "source": [
    "import joblib\n",
    "# Save the Model and Transformer\n",
    "joblib.dump(lr_model, 'vehicle_model.pkl')\n",
    "joblib.dump(ct, 'vehicle_transformer.pkl')"
   ]
  },
  {
   "cell_type": "code",
   "execution_count": 26,
   "id": "ea62e933",
   "metadata": {},
   "outputs": [
    {
     "name": "stdout",
     "output_type": "stream",
     "text": [
      "Vehicle Loan Rejected\n"
     ]
    }
   ],
   "source": [
    "# Prediction Function\n",
    "def predict_credit_score(input_data):\n",
    "    model = joblib.load('vehicle_model.pkl')\n",
    "    transformer = joblib.load('vehicle_transformer.pkl')\n",
    "    input_transformed = transformer.transform(pd.DataFrame([input_data]))\n",
    "    prediction = model.predict(input_transformed)\n",
    "    return 'Vehicle Loan Approved' if prediction[0] == 1 else 'Vehicle Loan Rejected'\n",
    "# Example Usage\n",
    "input_data = {'Gender': 'Male', 'Existing Customer': 'Yes', 'Employment Profile': 'Salaried', 'Age': 35, 'Income': 50000, 'Credit Score': 750, 'Credit History Length': 5, 'Number of Existing Loans': 2, 'Loan Amount': 10000, 'Loan Tenure': 12, 'LTV Ratio': 80, 'Profile Score': 75}\n",
    "print(predict_credit_score(input_data))"
   ]
  }
 ],
 "metadata": {
  "kernelspec": {
   "display_name": "Python 3",
   "language": "python",
   "name": "python3"
  },
  "language_info": {
   "codemirror_mode": {
    "name": "ipython",
    "version": 3
   },
   "file_extension": ".py",
   "mimetype": "text/x-python",
   "name": "python",
   "nbconvert_exporter": "python",
   "pygments_lexer": "ipython3",
   "version": "3.11.4"
  },
  "papermill": {
   "default_parameters": {},
   "duration": 12.20228,
   "end_time": "2023-09-12T17:00:52.716703",
   "environment_variables": {},
   "exception": null,
   "input_path": "__notebook__.ipynb",
   "output_path": "__notebook__.ipynb",
   "parameters": {},
   "start_time": "2023-09-12T17:00:40.514423",
   "version": "2.4.0"
  }
 },
 "nbformat": 4,
 "nbformat_minor": 5
}
